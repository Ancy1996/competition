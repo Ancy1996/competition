{
 "cells": [
  {
   "cell_type": "markdown",
   "id": "fbc2d076",
   "metadata": {},
   "source": [
    "Data Collection\n",
    "\n",
    "About Dataset\n",
    "\n",
    "This dataset has data from 2014-2016 data for different commodities purchased across the state of Maharashtra.\n",
    "\n",
    "Columns\n",
    "\n",
    "\n",
    "1.APMC : Agricultural Produce Marketing Committee. It is a categorical variable. Places of different APMC are in it.\n",
    "\n",
    "2.Commodity : Names of commodities grown. Categorical.\n",
    "\n",
    "3.Year : Year of collection of the commodity at APMC.\n",
    "\n",
    "4.Month : Month of collection.\n",
    "\n",
    "5.arrivals_in_qtl : Quantity if commodity collected in quintals.\n",
    "\n",
    "6.min_price : Minimum price for the commodity.\n",
    "\n",
    "7.max_price : Maximum price for the commodity.\n",
    "\n",
    "8.modal_price : Target variable. Price given to farmers.\n",
    "\n",
    "9.date : Date of collection.\n",
    "\n",
    "10district_name : Name of the district of APMC.\n",
    "\n",
    "11.state_name : Name of state. Considering only for Maharashtra, so all values are Maharashtra.\n"
   ]
  },
  {
   "cell_type": "markdown",
   "id": "4ff62f5b",
   "metadata": {},
   "source": [
    "# 1.Read the dataset to the python environment.\n"
   ]
  },
  {
   "cell_type": "code",
   "execution_count": 96,
   "id": "c24956a8",
   "metadata": {},
   "outputs": [
    {
     "data": {
      "text/html": [
       "<div>\n",
       "<style scoped>\n",
       "    .dataframe tbody tr th:only-of-type {\n",
       "        vertical-align: middle;\n",
       "    }\n",
       "\n",
       "    .dataframe tbody tr th {\n",
       "        vertical-align: top;\n",
       "    }\n",
       "\n",
       "    .dataframe thead th {\n",
       "        text-align: right;\n",
       "    }\n",
       "</style>\n",
       "<table border=\"1\" class=\"dataframe\">\n",
       "  <thead>\n",
       "    <tr style=\"text-align: right;\">\n",
       "      <th></th>\n",
       "      <th>APMC</th>\n",
       "      <th>Commodity</th>\n",
       "      <th>Year</th>\n",
       "      <th>Month</th>\n",
       "      <th>arrivals_in_qtl</th>\n",
       "      <th>min_price</th>\n",
       "      <th>max_price</th>\n",
       "      <th>modal_price</th>\n",
       "      <th>date</th>\n",
       "      <th>district_name</th>\n",
       "      <th>state_name</th>\n",
       "    </tr>\n",
       "  </thead>\n",
       "  <tbody>\n",
       "    <tr>\n",
       "      <th>0</th>\n",
       "      <td>Ahmednagar</td>\n",
       "      <td>Bajri</td>\n",
       "      <td>2015</td>\n",
       "      <td>April</td>\n",
       "      <td>79</td>\n",
       "      <td>1406</td>\n",
       "      <td>1538</td>\n",
       "      <td>1463</td>\n",
       "      <td>2015-04</td>\n",
       "      <td>Ahmadnagar</td>\n",
       "      <td>Maharashtra</td>\n",
       "    </tr>\n",
       "    <tr>\n",
       "      <th>1</th>\n",
       "      <td>Ahmednagar</td>\n",
       "      <td>Bajri</td>\n",
       "      <td>2016</td>\n",
       "      <td>April</td>\n",
       "      <td>106</td>\n",
       "      <td>1788</td>\n",
       "      <td>1925</td>\n",
       "      <td>1875</td>\n",
       "      <td>2016-04</td>\n",
       "      <td>Ahmadnagar</td>\n",
       "      <td>Maharashtra</td>\n",
       "    </tr>\n",
       "    <tr>\n",
       "      <th>2</th>\n",
       "      <td>Ahmednagar</td>\n",
       "      <td>Wheat(Husked)</td>\n",
       "      <td>2015</td>\n",
       "      <td>April</td>\n",
       "      <td>1253</td>\n",
       "      <td>1572</td>\n",
       "      <td>1890</td>\n",
       "      <td>1731</td>\n",
       "      <td>2015-04</td>\n",
       "      <td>Ahmadnagar</td>\n",
       "      <td>Maharashtra</td>\n",
       "    </tr>\n",
       "    <tr>\n",
       "      <th>3</th>\n",
       "      <td>Ahmednagar</td>\n",
       "      <td>Wheat(Husked)</td>\n",
       "      <td>2016</td>\n",
       "      <td>April</td>\n",
       "      <td>387</td>\n",
       "      <td>1750</td>\n",
       "      <td>2220</td>\n",
       "      <td>1999</td>\n",
       "      <td>2016-04</td>\n",
       "      <td>Ahmadnagar</td>\n",
       "      <td>Maharashtra</td>\n",
       "    </tr>\n",
       "    <tr>\n",
       "      <th>4</th>\n",
       "      <td>Ahmednagar</td>\n",
       "      <td>Sorgum(Jawar)</td>\n",
       "      <td>2015</td>\n",
       "      <td>April</td>\n",
       "      <td>3825</td>\n",
       "      <td>1600</td>\n",
       "      <td>2200</td>\n",
       "      <td>1900</td>\n",
       "      <td>2015-04</td>\n",
       "      <td>Ahmadnagar</td>\n",
       "      <td>Maharashtra</td>\n",
       "    </tr>\n",
       "    <tr>\n",
       "      <th>...</th>\n",
       "      <td>...</td>\n",
       "      <td>...</td>\n",
       "      <td>...</td>\n",
       "      <td>...</td>\n",
       "      <td>...</td>\n",
       "      <td>...</td>\n",
       "      <td>...</td>\n",
       "      <td>...</td>\n",
       "      <td>...</td>\n",
       "      <td>...</td>\n",
       "      <td>...</td>\n",
       "    </tr>\n",
       "    <tr>\n",
       "      <th>62424</th>\n",
       "      <td>Shrigonda</td>\n",
       "      <td>GRAM</td>\n",
       "      <td>2016</td>\n",
       "      <td>November</td>\n",
       "      <td>586</td>\n",
       "      <td>5700</td>\n",
       "      <td>6367</td>\n",
       "      <td>6200</td>\n",
       "      <td>2016-11</td>\n",
       "      <td>Ahmadnagar</td>\n",
       "      <td>Maharashtra</td>\n",
       "    </tr>\n",
       "    <tr>\n",
       "      <th>62425</th>\n",
       "      <td>Shrigonda</td>\n",
       "      <td>GREEN GRAM</td>\n",
       "      <td>2016</td>\n",
       "      <td>November</td>\n",
       "      <td>2</td>\n",
       "      <td>5000</td>\n",
       "      <td>5000</td>\n",
       "      <td>5000</td>\n",
       "      <td>2016-11</td>\n",
       "      <td>Ahmadnagar</td>\n",
       "      <td>Maharashtra</td>\n",
       "    </tr>\n",
       "    <tr>\n",
       "      <th>62426</th>\n",
       "      <td>Shrigonda</td>\n",
       "      <td>BLACK GRAM</td>\n",
       "      <td>2016</td>\n",
       "      <td>November</td>\n",
       "      <td>46</td>\n",
       "      <td>4700</td>\n",
       "      <td>6933</td>\n",
       "      <td>6400</td>\n",
       "      <td>2016-11</td>\n",
       "      <td>Ahmadnagar</td>\n",
       "      <td>Maharashtra</td>\n",
       "    </tr>\n",
       "    <tr>\n",
       "      <th>62427</th>\n",
       "      <td>Shrigonda</td>\n",
       "      <td>SOYBEAN</td>\n",
       "      <td>2016</td>\n",
       "      <td>November</td>\n",
       "      <td>166</td>\n",
       "      <td>2583</td>\n",
       "      <td>2708</td>\n",
       "      <td>2633</td>\n",
       "      <td>2016-11</td>\n",
       "      <td>Ahmadnagar</td>\n",
       "      <td>Maharashtra</td>\n",
       "    </tr>\n",
       "    <tr>\n",
       "      <th>62428</th>\n",
       "      <td>Shrigonda</td>\n",
       "      <td>SUNFLOWER</td>\n",
       "      <td>2016</td>\n",
       "      <td>November</td>\n",
       "      <td>74</td>\n",
       "      <td>2933</td>\n",
       "      <td>3200</td>\n",
       "      <td>3067</td>\n",
       "      <td>2016-11</td>\n",
       "      <td>Ahmadnagar</td>\n",
       "      <td>Maharashtra</td>\n",
       "    </tr>\n",
       "  </tbody>\n",
       "</table>\n",
       "<p>62429 rows × 11 columns</p>\n",
       "</div>"
      ],
      "text/plain": [
       "             APMC      Commodity  Year     Month  arrivals_in_qtl  min_price  \\\n",
       "0      Ahmednagar          Bajri  2015     April               79       1406   \n",
       "1      Ahmednagar          Bajri  2016     April              106       1788   \n",
       "2      Ahmednagar  Wheat(Husked)  2015     April             1253       1572   \n",
       "3      Ahmednagar  Wheat(Husked)  2016     April              387       1750   \n",
       "4      Ahmednagar  Sorgum(Jawar)  2015     April             3825       1600   \n",
       "...           ...            ...   ...       ...              ...        ...   \n",
       "62424   Shrigonda           GRAM  2016  November              586       5700   \n",
       "62425   Shrigonda     GREEN GRAM  2016  November                2       5000   \n",
       "62426   Shrigonda     BLACK GRAM  2016  November               46       4700   \n",
       "62427   Shrigonda        SOYBEAN  2016  November              166       2583   \n",
       "62428   Shrigonda      SUNFLOWER  2016  November               74       2933   \n",
       "\n",
       "       max_price  modal_price     date district_name   state_name  \n",
       "0           1538         1463  2015-04    Ahmadnagar  Maharashtra  \n",
       "1           1925         1875  2016-04    Ahmadnagar  Maharashtra  \n",
       "2           1890         1731  2015-04    Ahmadnagar  Maharashtra  \n",
       "3           2220         1999  2016-04    Ahmadnagar  Maharashtra  \n",
       "4           2200         1900  2015-04    Ahmadnagar  Maharashtra  \n",
       "...          ...          ...      ...           ...          ...  \n",
       "62424       6367         6200  2016-11    Ahmadnagar  Maharashtra  \n",
       "62425       5000         5000  2016-11    Ahmadnagar  Maharashtra  \n",
       "62426       6933         6400  2016-11    Ahmadnagar  Maharashtra  \n",
       "62427       2708         2633  2016-11    Ahmadnagar  Maharashtra  \n",
       "62428       3200         3067  2016-11    Ahmadnagar  Maharashtra  \n",
       "\n",
       "[62429 rows x 11 columns]"
      ]
     },
     "execution_count": 96,
     "metadata": {},
     "output_type": "execute_result"
    }
   ],
   "source": [
    "import pandas as pd\n",
    "data1=pd.read_csv(r'C:\\Users\\ANJU SAJI\\Downloads\\Monthly_data_cmo.csv (1).zip')\n",
    "data1"
   ]
  },
  {
   "cell_type": "code",
   "execution_count": 97,
   "id": "15c39353",
   "metadata": {},
   "outputs": [
    {
     "name": "stdout",
     "output_type": "stream",
     "text": [
      "<class 'pandas.core.frame.DataFrame'>\n",
      "RangeIndex: 62429 entries, 0 to 62428\n",
      "Data columns (total 11 columns):\n",
      " #   Column           Non-Null Count  Dtype \n",
      "---  ------           --------------  ----- \n",
      " 0   APMC             62429 non-null  object\n",
      " 1   Commodity        62429 non-null  object\n",
      " 2   Year             62429 non-null  int64 \n",
      " 3   Month            62429 non-null  object\n",
      " 4   arrivals_in_qtl  62429 non-null  int64 \n",
      " 5   min_price        62429 non-null  int64 \n",
      " 6   max_price        62429 non-null  int64 \n",
      " 7   modal_price      62429 non-null  int64 \n",
      " 8   date             62429 non-null  object\n",
      " 9   district_name    62429 non-null  object\n",
      " 10  state_name       62429 non-null  object\n",
      "dtypes: int64(5), object(6)\n",
      "memory usage: 5.2+ MB\n"
     ]
    }
   ],
   "source": [
    "data1.info()"
   ]
  },
  {
   "cell_type": "code",
   "execution_count": 98,
   "id": "3288a302",
   "metadata": {},
   "outputs": [
    {
     "data": {
      "text/html": [
       "<div>\n",
       "<style scoped>\n",
       "    .dataframe tbody tr th:only-of-type {\n",
       "        vertical-align: middle;\n",
       "    }\n",
       "\n",
       "    .dataframe tbody tr th {\n",
       "        vertical-align: top;\n",
       "    }\n",
       "\n",
       "    .dataframe thead th {\n",
       "        text-align: right;\n",
       "    }\n",
       "</style>\n",
       "<table border=\"1\" class=\"dataframe\">\n",
       "  <thead>\n",
       "    <tr style=\"text-align: right;\">\n",
       "      <th></th>\n",
       "      <th>Year</th>\n",
       "      <th>arrivals_in_qtl</th>\n",
       "      <th>min_price</th>\n",
       "      <th>max_price</th>\n",
       "      <th>modal_price</th>\n",
       "    </tr>\n",
       "  </thead>\n",
       "  <tbody>\n",
       "    <tr>\n",
       "      <th>count</th>\n",
       "      <td>62429.000000</td>\n",
       "      <td>6.242900e+04</td>\n",
       "      <td>6.242900e+04</td>\n",
       "      <td>6.242900e+04</td>\n",
       "      <td>62429.000000</td>\n",
       "    </tr>\n",
       "    <tr>\n",
       "      <th>mean</th>\n",
       "      <td>2015.337503</td>\n",
       "      <td>6.043088e+03</td>\n",
       "      <td>2.945228e+03</td>\n",
       "      <td>3.688814e+03</td>\n",
       "      <td>3296.003989</td>\n",
       "    </tr>\n",
       "    <tr>\n",
       "      <th>std</th>\n",
       "      <td>0.690451</td>\n",
       "      <td>3.470331e+04</td>\n",
       "      <td>1.318396e+04</td>\n",
       "      <td>7.662962e+03</td>\n",
       "      <td>3607.792534</td>\n",
       "    </tr>\n",
       "    <tr>\n",
       "      <th>min</th>\n",
       "      <td>2014.000000</td>\n",
       "      <td>1.000000e+00</td>\n",
       "      <td>0.000000e+00</td>\n",
       "      <td>0.000000e+00</td>\n",
       "      <td>0.000000</td>\n",
       "    </tr>\n",
       "    <tr>\n",
       "      <th>25%</th>\n",
       "      <td>2015.000000</td>\n",
       "      <td>3.800000e+01</td>\n",
       "      <td>1.250000e+03</td>\n",
       "      <td>1.600000e+03</td>\n",
       "      <td>1450.000000</td>\n",
       "    </tr>\n",
       "    <tr>\n",
       "      <th>50%</th>\n",
       "      <td>2015.000000</td>\n",
       "      <td>2.110000e+02</td>\n",
       "      <td>1.976000e+03</td>\n",
       "      <td>2.797000e+03</td>\n",
       "      <td>2425.000000</td>\n",
       "    </tr>\n",
       "    <tr>\n",
       "      <th>75%</th>\n",
       "      <td>2016.000000</td>\n",
       "      <td>1.364000e+03</td>\n",
       "      <td>3.900000e+03</td>\n",
       "      <td>4.647000e+03</td>\n",
       "      <td>4257.000000</td>\n",
       "    </tr>\n",
       "    <tr>\n",
       "      <th>max</th>\n",
       "      <td>2016.000000</td>\n",
       "      <td>1.450254e+06</td>\n",
       "      <td>3.153038e+06</td>\n",
       "      <td>1.600090e+06</td>\n",
       "      <td>142344.000000</td>\n",
       "    </tr>\n",
       "  </tbody>\n",
       "</table>\n",
       "</div>"
      ],
      "text/plain": [
       "               Year  arrivals_in_qtl     min_price     max_price  \\\n",
       "count  62429.000000     6.242900e+04  6.242900e+04  6.242900e+04   \n",
       "mean    2015.337503     6.043088e+03  2.945228e+03  3.688814e+03   \n",
       "std        0.690451     3.470331e+04  1.318396e+04  7.662962e+03   \n",
       "min     2014.000000     1.000000e+00  0.000000e+00  0.000000e+00   \n",
       "25%     2015.000000     3.800000e+01  1.250000e+03  1.600000e+03   \n",
       "50%     2015.000000     2.110000e+02  1.976000e+03  2.797000e+03   \n",
       "75%     2016.000000     1.364000e+03  3.900000e+03  4.647000e+03   \n",
       "max     2016.000000     1.450254e+06  3.153038e+06  1.600090e+06   \n",
       "\n",
       "         modal_price  \n",
       "count   62429.000000  \n",
       "mean     3296.003989  \n",
       "std      3607.792534  \n",
       "min         0.000000  \n",
       "25%      1450.000000  \n",
       "50%      2425.000000  \n",
       "75%      4257.000000  \n",
       "max    142344.000000  "
      ]
     },
     "execution_count": 98,
     "metadata": {},
     "output_type": "execute_result"
    }
   ],
   "source": [
    "data1.describe()"
   ]
  },
  {
   "cell_type": "code",
   "execution_count": 99,
   "id": "82c4c873",
   "metadata": {},
   "outputs": [
    {
     "data": {
      "text/plain": [
       "(62429, 11)"
      ]
     },
     "execution_count": 99,
     "metadata": {},
     "output_type": "execute_result"
    }
   ],
   "source": [
    "data1.shape"
   ]
  },
  {
   "cell_type": "markdown",
   "id": "777de096",
   "metadata": {},
   "source": [
    "# 2 pre-processing steps."
   ]
  },
  {
   "cell_type": "markdown",
   "id": "266dd128",
   "metadata": {},
   "source": [
    "# 2.1  checking null value"
   ]
  },
  {
   "cell_type": "code",
   "execution_count": 100,
   "id": "06bb57c6",
   "metadata": {},
   "outputs": [
    {
     "data": {
      "text/plain": [
       "APMC               0\n",
       "Commodity          0\n",
       "Year               0\n",
       "Month              0\n",
       "arrivals_in_qtl    0\n",
       "min_price          0\n",
       "max_price          0\n",
       "modal_price        0\n",
       "date               0\n",
       "district_name      0\n",
       "state_name         0\n",
       "dtype: int64"
      ]
     },
     "execution_count": 100,
     "metadata": {},
     "output_type": "execute_result"
    }
   ],
   "source": [
    "data1.isnull().sum()"
   ]
  },
  {
   "cell_type": "code",
   "execution_count": 101,
   "id": "25321be0",
   "metadata": {},
   "outputs": [],
   "source": [
    "## there is no missing value in this data"
   ]
  },
  {
   "cell_type": "code",
   "execution_count": 102,
   "id": "d08ec84c",
   "metadata": {},
   "outputs": [
    {
     "data": {
      "text/plain": [
       "APMC                 349\n",
       "Commodity            352\n",
       "Year                   3\n",
       "Month                 12\n",
       "arrivals_in_qtl    11169\n",
       "min_price           8503\n",
       "max_price           9739\n",
       "modal_price         9327\n",
       "date                  27\n",
       "district_name         33\n",
       "state_name             1\n",
       "dtype: int64"
      ]
     },
     "execution_count": 102,
     "metadata": {},
     "output_type": "execute_result"
    }
   ],
   "source": [
    "data1.nunique()"
   ]
  },
  {
   "cell_type": "code",
   "execution_count": 103,
   "id": "04c6d9ad",
   "metadata": {},
   "outputs": [
    {
     "data": {
      "text/plain": [
       "2016    28971\n",
       "2015    25557\n",
       "2014     7901\n",
       "Name: Year, dtype: int64"
      ]
     },
     "execution_count": 103,
     "metadata": {},
     "output_type": "execute_result"
    }
   ],
   "source": [
    "## 3 categories in Year.\n",
    "data1['Year'].value_counts()"
   ]
  },
  {
   "cell_type": "code",
   "execution_count": 105,
   "id": "9f8e5d3b",
   "metadata": {},
   "outputs": [
    {
     "data": {
      "text/html": [
       "<div>\n",
       "<style scoped>\n",
       "    .dataframe tbody tr th:only-of-type {\n",
       "        vertical-align: middle;\n",
       "    }\n",
       "\n",
       "    .dataframe tbody tr th {\n",
       "        vertical-align: top;\n",
       "    }\n",
       "\n",
       "    .dataframe thead th {\n",
       "        text-align: right;\n",
       "    }\n",
       "</style>\n",
       "<table border=\"1\" class=\"dataframe\">\n",
       "  <thead>\n",
       "    <tr style=\"text-align: right;\">\n",
       "      <th></th>\n",
       "      <th>arrivals_in_qtl</th>\n",
       "      <th>min_price</th>\n",
       "      <th>max_price</th>\n",
       "      <th>modal_price</th>\n",
       "    </tr>\n",
       "    <tr>\n",
       "      <th>Year</th>\n",
       "      <th></th>\n",
       "      <th></th>\n",
       "      <th></th>\n",
       "      <th></th>\n",
       "    </tr>\n",
       "  </thead>\n",
       "  <tbody>\n",
       "    <tr>\n",
       "      <th>2016</th>\n",
       "      <td>167763619</td>\n",
       "      <td>86826086</td>\n",
       "      <td>111944031</td>\n",
       "      <td>99608865</td>\n",
       "    </tr>\n",
       "    <tr>\n",
       "      <th>2015</th>\n",
       "      <td>159554268</td>\n",
       "      <td>76236512</td>\n",
       "      <td>91808885</td>\n",
       "      <td>82570880</td>\n",
       "    </tr>\n",
       "    <tr>\n",
       "      <th>2014</th>\n",
       "      <td>49946074</td>\n",
       "      <td>20805015</td>\n",
       "      <td>26536030</td>\n",
       "      <td>23586488</td>\n",
       "    </tr>\n",
       "  </tbody>\n",
       "</table>\n",
       "</div>"
      ],
      "text/plain": [
       "      arrivals_in_qtl  min_price  max_price  modal_price\n",
       "Year                                                    \n",
       "2016        167763619   86826086  111944031     99608865\n",
       "2015        159554268   76236512   91808885     82570880\n",
       "2014         49946074   20805015   26536030     23586488"
      ]
     },
     "execution_count": 105,
     "metadata": {},
     "output_type": "execute_result"
    }
   ],
   "source": [
    "# Which year is highest in terms of modal_price.\n",
    "data1[['arrivals_in_qtl','min_price','max_price','modal_price']].groupby(data1[\"Year\"]).sum().sort_values(by=\"modal_price\",ascending=False)"
   ]
  },
  {
   "cell_type": "markdown",
   "id": "e752c15f",
   "metadata": {},
   "source": [
    "# checking the outliers"
   ]
  },
  {
   "cell_type": "code",
   "execution_count": 106,
   "id": "d1922111",
   "metadata": {},
   "outputs": [
    {
     "data": {
      "text/plain": [
       "<AxesSubplot:>"
      ]
     },
     "execution_count": 106,
     "metadata": {},
     "output_type": "execute_result"
    },
    {
     "data": {
      "image/png": "[encoded data removed]",
      "text/plain": [
       "<Figure size 432x288 with 1 Axes>"
      ]
     },
     "metadata": {
      "needs_background": "light"
     },
     "output_type": "display_data"
    }
   ],
   "source": [
    "data1.plot(kind='box')"
   ]
  },
  {
   "cell_type": "code",
   "execution_count": 107,
   "id": "26c11178",
   "metadata": {},
   "outputs": [],
   "source": [
    "##From the boxplot the outliers are clearly visible in arrivals_in_qtl,min_price,max_price,modal_price"
   ]
  },
  {
   "cell_type": "code",
   "execution_count": 108,
   "id": "7ec652d3",
   "metadata": {},
   "outputs": [
    {
     "name": "stdout",
     "output_type": "stream",
     "text": [
      "Interquartile range is 1326.0\n",
      "low_limit is -1951.0\n",
      "up_limit is 3353.0\n"
     ]
    }
   ],
   "source": [
    "# to handle outliers in arrivals_in_qtl\n",
    "\n",
    "import numpy as np\n",
    "Q1 = np.percentile(data1['arrivals_in_qtl'],25,interpolation='midpoint')\n",
    "Q3 = np.percentile(data1['arrivals_in_qtl'],75,interpolation='midpoint')\n",
    "IQR = Q3-Q1\n",
    "print('Interquartile range is', IQR)\n",
    "low_limit=Q1-1.5*IQR\n",
    "high_limit=Q3+1.5*IQR\n",
    "print('low_limit is', low_limit)\n",
    "print('up_limit is', high_limit)"
   ]
  },
  {
   "cell_type": "code",
   "execution_count": 109,
   "id": "039ae255",
   "metadata": {},
   "outputs": [],
   "source": [
    "index=data1['arrivals_in_qtl'][(data1['arrivals_in_qtl']<low_limit)|(data1['arrivals_in_qtl']>high_limit)].index\n",
    "data1.drop(index,inplace=True)"
   ]
  },
  {
   "cell_type": "code",
   "execution_count": 110,
   "id": "d467f246",
   "metadata": {},
   "outputs": [
    {
     "name": "stdout",
     "output_type": "stream",
     "text": [
      "Interquartile range is 2698.0\n",
      "low_limit is -2747.0\n",
      "up_limit is 8045.0\n"
     ]
    }
   ],
   "source": [
    "## to handle outliers in min_price\n",
    "\n",
    "import numpy as np\n",
    "Q1 = np.percentile(data1['min_price'],25,interpolation='midpoint')\n",
    "Q3 = np.percentile(data1['min_price'],75,interpolation='midpoint')\n",
    "IQR = Q3-Q1\n",
    "print('Interquartile range is', IQR)\n",
    "low_limit=Q1-1.5*IQR\n",
    "high_limit=Q3+1.5*IQR\n",
    "print('low_limit is', low_limit)\n",
    "print('up_limit is', high_limit)"
   ]
  },
  {
   "cell_type": "code",
   "execution_count": 111,
   "id": "597ae3f9",
   "metadata": {},
   "outputs": [],
   "source": [
    "index=data1['min_price'][(data1['min_price']<low_limit)|(data1['min_price']>high_limit)].index\n",
    "data1.drop(index,inplace=True)"
   ]
  },
  {
   "cell_type": "code",
   "execution_count": 112,
   "id": "1ee6d142",
   "metadata": {},
   "outputs": [
    {
     "name": "stdout",
     "output_type": "stream",
     "text": [
      "Interquartile range is 2866.0\n",
      "low_limit is -2704.0\n",
      "up_limit is 8760.0\n"
     ]
    }
   ],
   "source": [
    "## to handle outliers in  max_price\n",
    "\n",
    "\n",
    "import numpy as np\n",
    "Q1 = np.percentile(data1['max_price'],25,interpolation='midpoint')\n",
    "Q3 = np.percentile(data1['max_price'],75,interpolation='midpoint')\n",
    "IQR = Q3-Q1\n",
    "print('Interquartile range is', IQR)\n",
    "low_limit=Q1-1.5*IQR\n",
    "high_limit=Q3+1.5*IQR\n",
    "print('low_limit is', low_limit)\n",
    "print('up_limit is', high_limit)"
   ]
  },
  {
   "cell_type": "code",
   "execution_count": 113,
   "id": "b35b068a",
   "metadata": {},
   "outputs": [],
   "source": [
    "index=data1['min_price'][(data1['max_price']<low_limit)|(data1['max_price']>high_limit)].index\n",
    "data1.drop(index,inplace=True)"
   ]
  },
  {
   "cell_type": "code",
   "execution_count": 114,
   "id": "cf3cb168",
   "metadata": {},
   "outputs": [
    {
     "name": "stdout",
     "output_type": "stream",
     "text": [
      "Interquartile range is 2550.0\n",
      "low_limit is -2375.0\n",
      "up_limit is 7825.0\n"
     ]
    }
   ],
   "source": [
    "##to handle outliers in modal_price\n",
    "\n",
    "import numpy as np\n",
    "Q1 = np.percentile(data1['modal_price'],25,interpolation='midpoint')\n",
    "Q3 = np.percentile(data1['modal_price'],75,interpolation='midpoint')\n",
    "IQR = Q3-Q1\n",
    "print('Interquartile range is', IQR)\n",
    "low_limit=Q1-1.5*IQR\n",
    "high_limit=Q3+1.5*IQR\n",
    "print('low_limit is', low_limit)\n",
    "print('up_limit is', high_limit)"
   ]
  },
  {
   "cell_type": "code",
   "execution_count": 115,
   "id": "9cbbaf66",
   "metadata": {},
   "outputs": [],
   "source": [
    "index=data1['modal_price'][(data1['modal_price']<low_limit)|(data1['modal_price']>high_limit)].index\n",
    "data1.drop(index,inplace=True)"
   ]
  },
  {
   "cell_type": "code",
   "execution_count": 116,
   "id": "7413e496",
   "metadata": {},
   "outputs": [
    {
     "data": {
      "text/plain": [
       "<AxesSubplot:>"
      ]
     },
     "execution_count": 116,
     "metadata": {},
     "output_type": "execute_result"
    },
    {
     "data": {
      "image/png": "[encoded data removed]",
      "text/plain": [
       "<Figure size 432x288 with 1 Axes>"
      ]
     },
     "metadata": {
      "needs_background": "light"
     },
     "output_type": "display_data"
    }
   ],
   "source": [
    "data1.plot(kind='box')"
   ]
  },
  {
   "cell_type": "code",
   "execution_count": 117,
   "id": "cbaea20a",
   "metadata": {},
   "outputs": [
    {
     "data": {
      "text/plain": [
       "APMC               object\n",
       "Commodity          object\n",
       "Year                int64\n",
       "Month              object\n",
       "arrivals_in_qtl     int64\n",
       "min_price           int64\n",
       "max_price           int64\n",
       "modal_price         int64\n",
       "date               object\n",
       "district_name      object\n",
       "state_name         object\n",
       "dtype: object"
      ]
     },
     "execution_count": 117,
     "metadata": {},
     "output_type": "execute_result"
    }
   ],
   "source": [
    "data1.dtypes"
   ]
  },
  {
   "cell_type": "markdown",
   "id": "78abea51",
   "metadata": {},
   "source": [
    "# 2.2 Encoding"
   ]
  },
  {
   "cell_type": "code",
   "execution_count": 118,
   "id": "bafc3308",
   "metadata": {},
   "outputs": [
    {
     "data": {
      "text/html": [
       "<div>\n",
       "<style scoped>\n",
       "    .dataframe tbody tr th:only-of-type {\n",
       "        vertical-align: middle;\n",
       "    }\n",
       "\n",
       "    .dataframe tbody tr th {\n",
       "        vertical-align: top;\n",
       "    }\n",
       "\n",
       "    .dataframe thead th {\n",
       "        text-align: right;\n",
       "    }\n",
       "</style>\n",
       "<table border=\"1\" class=\"dataframe\">\n",
       "  <thead>\n",
       "    <tr style=\"text-align: right;\">\n",
       "      <th></th>\n",
       "      <th>APMC</th>\n",
       "      <th>Commodity</th>\n",
       "      <th>Month</th>\n",
       "      <th>arrivals_in_qtl</th>\n",
       "      <th>min_price</th>\n",
       "      <th>max_price</th>\n",
       "      <th>modal_price</th>\n",
       "      <th>date</th>\n",
       "      <th>district_name</th>\n",
       "      <th>state_name</th>\n",
       "      <th>Year_2014</th>\n",
       "      <th>Year_2015</th>\n",
       "      <th>Year_2016</th>\n",
       "    </tr>\n",
       "  </thead>\n",
       "  <tbody>\n",
       "    <tr>\n",
       "      <th>0</th>\n",
       "      <td>Ahmednagar</td>\n",
       "      <td>Bajri</td>\n",
       "      <td>April</td>\n",
       "      <td>79</td>\n",
       "      <td>1406</td>\n",
       "      <td>1538</td>\n",
       "      <td>1463</td>\n",
       "      <td>2015-04</td>\n",
       "      <td>Ahmadnagar</td>\n",
       "      <td>Maharashtra</td>\n",
       "      <td>0</td>\n",
       "      <td>1</td>\n",
       "      <td>0</td>\n",
       "    </tr>\n",
       "    <tr>\n",
       "      <th>1</th>\n",
       "      <td>Ahmednagar</td>\n",
       "      <td>Bajri</td>\n",
       "      <td>April</td>\n",
       "      <td>106</td>\n",
       "      <td>1788</td>\n",
       "      <td>1925</td>\n",
       "      <td>1875</td>\n",
       "      <td>2016-04</td>\n",
       "      <td>Ahmadnagar</td>\n",
       "      <td>Maharashtra</td>\n",
       "      <td>0</td>\n",
       "      <td>0</td>\n",
       "      <td>1</td>\n",
       "    </tr>\n",
       "    <tr>\n",
       "      <th>2</th>\n",
       "      <td>Ahmednagar</td>\n",
       "      <td>Wheat(Husked)</td>\n",
       "      <td>April</td>\n",
       "      <td>1253</td>\n",
       "      <td>1572</td>\n",
       "      <td>1890</td>\n",
       "      <td>1731</td>\n",
       "      <td>2015-04</td>\n",
       "      <td>Ahmadnagar</td>\n",
       "      <td>Maharashtra</td>\n",
       "      <td>0</td>\n",
       "      <td>1</td>\n",
       "      <td>0</td>\n",
       "    </tr>\n",
       "    <tr>\n",
       "      <th>3</th>\n",
       "      <td>Ahmednagar</td>\n",
       "      <td>Wheat(Husked)</td>\n",
       "      <td>April</td>\n",
       "      <td>387</td>\n",
       "      <td>1750</td>\n",
       "      <td>2220</td>\n",
       "      <td>1999</td>\n",
       "      <td>2016-04</td>\n",
       "      <td>Ahmadnagar</td>\n",
       "      <td>Maharashtra</td>\n",
       "      <td>0</td>\n",
       "      <td>0</td>\n",
       "      <td>1</td>\n",
       "    </tr>\n",
       "    <tr>\n",
       "      <th>5</th>\n",
       "      <td>Ahmednagar</td>\n",
       "      <td>Sorgum(Jawar)</td>\n",
       "      <td>April</td>\n",
       "      <td>2093</td>\n",
       "      <td>1695</td>\n",
       "      <td>2454</td>\n",
       "      <td>2119</td>\n",
       "      <td>2016-04</td>\n",
       "      <td>Ahmadnagar</td>\n",
       "      <td>Maharashtra</td>\n",
       "      <td>0</td>\n",
       "      <td>0</td>\n",
       "      <td>1</td>\n",
       "    </tr>\n",
       "  </tbody>\n",
       "</table>\n",
       "</div>"
      ],
      "text/plain": [
       "         APMC      Commodity  Month  arrivals_in_qtl  min_price  max_price  \\\n",
       "0  Ahmednagar          Bajri  April               79       1406       1538   \n",
       "1  Ahmednagar          Bajri  April              106       1788       1925   \n",
       "2  Ahmednagar  Wheat(Husked)  April             1253       1572       1890   \n",
       "3  Ahmednagar  Wheat(Husked)  April              387       1750       2220   \n",
       "5  Ahmednagar  Sorgum(Jawar)  April             2093       1695       2454   \n",
       "\n",
       "   modal_price     date district_name   state_name  Year_2014  Year_2015  \\\n",
       "0         1463  2015-04    Ahmadnagar  Maharashtra          0          1   \n",
       "1         1875  2016-04    Ahmadnagar  Maharashtra          0          0   \n",
       "2         1731  2015-04    Ahmadnagar  Maharashtra          0          1   \n",
       "3         1999  2016-04    Ahmadnagar  Maharashtra          0          0   \n",
       "5         2119  2016-04    Ahmadnagar  Maharashtra          0          0   \n",
       "\n",
       "   Year_2016  \n",
       "0          0  \n",
       "1          1  \n",
       "2          0  \n",
       "3          1  \n",
       "5          1  "
      ]
     },
     "execution_count": 118,
     "metadata": {},
     "output_type": "execute_result"
    }
   ],
   "source": [
    "## one hot encoding\n",
    "\n",
    "data1=pd.get_dummies(data1,columns=['Year'])\n",
    "data1.head()"
   ]
  },
  {
   "cell_type": "code",
   "execution_count": 119,
   "id": "1ca4dfed",
   "metadata": {},
   "outputs": [],
   "source": [
    "import category_encoders as ce"
   ]
  },
  {
   "cell_type": "code",
   "execution_count": 120,
   "id": "09758ca8",
   "metadata": {},
   "outputs": [],
   "source": [
    "encoder= ce.BaseNEncoder(cols=['APMC','Commodity','district_name'],return_df=True,base=3)"
   ]
  },
  {
   "cell_type": "code",
   "execution_count": 121,
   "id": "2ee92d97",
   "metadata": {},
   "outputs": [
    {
     "data": {
      "text/html": [
       "<div>\n",
       "<style scoped>\n",
       "    .dataframe tbody tr th:only-of-type {\n",
       "        vertical-align: middle;\n",
       "    }\n",
       "\n",
       "    .dataframe tbody tr th {\n",
       "        vertical-align: top;\n",
       "    }\n",
       "\n",
       "    .dataframe thead th {\n",
       "        text-align: right;\n",
       "    }\n",
       "</style>\n",
       "<table border=\"1\" class=\"dataframe\">\n",
       "  <thead>\n",
       "    <tr style=\"text-align: right;\">\n",
       "      <th></th>\n",
       "      <th>APMC</th>\n",
       "      <th>Commodity</th>\n",
       "      <th>Month</th>\n",
       "      <th>arrivals_in_qtl</th>\n",
       "      <th>min_price</th>\n",
       "      <th>max_price</th>\n",
       "      <th>modal_price</th>\n",
       "      <th>date</th>\n",
       "      <th>district_name</th>\n",
       "      <th>state_name</th>\n",
       "      <th>Year_2014</th>\n",
       "      <th>Year_2015</th>\n",
       "      <th>Year_2016</th>\n",
       "    </tr>\n",
       "  </thead>\n",
       "  <tbody>\n",
       "    <tr>\n",
       "      <th>0</th>\n",
       "      <td>Ahmednagar</td>\n",
       "      <td>Bajri</td>\n",
       "      <td>April</td>\n",
       "      <td>79</td>\n",
       "      <td>1406</td>\n",
       "      <td>1538</td>\n",
       "      <td>1463</td>\n",
       "      <td>2015-04</td>\n",
       "      <td>Ahmadnagar</td>\n",
       "      <td>Maharashtra</td>\n",
       "      <td>0</td>\n",
       "      <td>1</td>\n",
       "      <td>0</td>\n",
       "    </tr>\n",
       "    <tr>\n",
       "      <th>1</th>\n",
       "      <td>Ahmednagar</td>\n",
       "      <td>Bajri</td>\n",
       "      <td>April</td>\n",
       "      <td>106</td>\n",
       "      <td>1788</td>\n",
       "      <td>1925</td>\n",
       "      <td>1875</td>\n",
       "      <td>2016-04</td>\n",
       "      <td>Ahmadnagar</td>\n",
       "      <td>Maharashtra</td>\n",
       "      <td>0</td>\n",
       "      <td>0</td>\n",
       "      <td>1</td>\n",
       "    </tr>\n",
       "    <tr>\n",
       "      <th>2</th>\n",
       "      <td>Ahmednagar</td>\n",
       "      <td>Wheat(Husked)</td>\n",
       "      <td>April</td>\n",
       "      <td>1253</td>\n",
       "      <td>1572</td>\n",
       "      <td>1890</td>\n",
       "      <td>1731</td>\n",
       "      <td>2015-04</td>\n",
       "      <td>Ahmadnagar</td>\n",
       "      <td>Maharashtra</td>\n",
       "      <td>0</td>\n",
       "      <td>1</td>\n",
       "      <td>0</td>\n",
       "    </tr>\n",
       "    <tr>\n",
       "      <th>3</th>\n",
       "      <td>Ahmednagar</td>\n",
       "      <td>Wheat(Husked)</td>\n",
       "      <td>April</td>\n",
       "      <td>387</td>\n",
       "      <td>1750</td>\n",
       "      <td>2220</td>\n",
       "      <td>1999</td>\n",
       "      <td>2016-04</td>\n",
       "      <td>Ahmadnagar</td>\n",
       "      <td>Maharashtra</td>\n",
       "      <td>0</td>\n",
       "      <td>0</td>\n",
       "      <td>1</td>\n",
       "    </tr>\n",
       "    <tr>\n",
       "      <th>5</th>\n",
       "      <td>Ahmednagar</td>\n",
       "      <td>Sorgum(Jawar)</td>\n",
       "      <td>April</td>\n",
       "      <td>2093</td>\n",
       "      <td>1695</td>\n",
       "      <td>2454</td>\n",
       "      <td>2119</td>\n",
       "      <td>2016-04</td>\n",
       "      <td>Ahmadnagar</td>\n",
       "      <td>Maharashtra</td>\n",
       "      <td>0</td>\n",
       "      <td>0</td>\n",
       "      <td>1</td>\n",
       "    </tr>\n",
       "  </tbody>\n",
       "</table>\n",
       "</div>"
      ],
      "text/plain": [
       "         APMC      Commodity  Month  arrivals_in_qtl  min_price  max_price  \\\n",
       "0  Ahmednagar          Bajri  April               79       1406       1538   \n",
       "1  Ahmednagar          Bajri  April              106       1788       1925   \n",
       "2  Ahmednagar  Wheat(Husked)  April             1253       1572       1890   \n",
       "3  Ahmednagar  Wheat(Husked)  April              387       1750       2220   \n",
       "5  Ahmednagar  Sorgum(Jawar)  April             2093       1695       2454   \n",
       "\n",
       "   modal_price     date district_name   state_name  Year_2014  Year_2015  \\\n",
       "0         1463  2015-04    Ahmadnagar  Maharashtra          0          1   \n",
       "1         1875  2016-04    Ahmadnagar  Maharashtra          0          0   \n",
       "2         1731  2015-04    Ahmadnagar  Maharashtra          0          1   \n",
       "3         1999  2016-04    Ahmadnagar  Maharashtra          0          0   \n",
       "5         2119  2016-04    Ahmadnagar  Maharashtra          0          0   \n",
       "\n",
       "   Year_2016  \n",
       "0          0  \n",
       "1          1  \n",
       "2          0  \n",
       "3          1  \n",
       "5          1  "
      ]
     },
     "execution_count": 121,
     "metadata": {},
     "output_type": "execute_result"
    }
   ],
   "source": [
    "data1.head()"
   ]
  },
  {
   "cell_type": "code",
   "execution_count": 122,
   "id": "1700443b",
   "metadata": {},
   "outputs": [],
   "source": [
    "pd.set_option('display.max_columns',None)"
   ]
  },
  {
   "cell_type": "code",
   "execution_count": 123,
   "id": "bbaf8f58",
   "metadata": {},
   "outputs": [
    {
     "data": {
      "text/html": [
       "<div>\n",
       "<style scoped>\n",
       "    .dataframe tbody tr th:only-of-type {\n",
       "        vertical-align: middle;\n",
       "    }\n",
       "\n",
       "    .dataframe tbody tr th {\n",
       "        vertical-align: top;\n",
       "    }\n",
       "\n",
       "    .dataframe thead th {\n",
       "        text-align: right;\n",
       "    }\n",
       "</style>\n",
       "<table border=\"1\" class=\"dataframe\">\n",
       "  <thead>\n",
       "    <tr style=\"text-align: right;\">\n",
       "      <th></th>\n",
       "      <th>APMC_0</th>\n",
       "      <th>APMC_1</th>\n",
       "      <th>APMC_2</th>\n",
       "      <th>APMC_3</th>\n",
       "      <th>APMC_4</th>\n",
       "      <th>APMC_5</th>\n",
       "      <th>Commodity_0</th>\n",
       "      <th>Commodity_1</th>\n",
       "      <th>Commodity_2</th>\n",
       "      <th>Commodity_3</th>\n",
       "      <th>Commodity_4</th>\n",
       "      <th>Commodity_5</th>\n",
       "      <th>Month</th>\n",
       "      <th>arrivals_in_qtl</th>\n",
       "      <th>min_price</th>\n",
       "      <th>max_price</th>\n",
       "      <th>modal_price</th>\n",
       "      <th>date</th>\n",
       "      <th>district_name_0</th>\n",
       "      <th>district_name_1</th>\n",
       "      <th>district_name_2</th>\n",
       "      <th>district_name_3</th>\n",
       "      <th>state_name</th>\n",
       "      <th>Year_2014</th>\n",
       "      <th>Year_2015</th>\n",
       "      <th>Year_2016</th>\n",
       "    </tr>\n",
       "  </thead>\n",
       "  <tbody>\n",
       "    <tr>\n",
       "      <th>0</th>\n",
       "      <td>0</td>\n",
       "      <td>0</td>\n",
       "      <td>0</td>\n",
       "      <td>0</td>\n",
       "      <td>0</td>\n",
       "      <td>1</td>\n",
       "      <td>0</td>\n",
       "      <td>0</td>\n",
       "      <td>0</td>\n",
       "      <td>0</td>\n",
       "      <td>0</td>\n",
       "      <td>1</td>\n",
       "      <td>April</td>\n",
       "      <td>79</td>\n",
       "      <td>1406</td>\n",
       "      <td>1538</td>\n",
       "      <td>1463</td>\n",
       "      <td>2015-04</td>\n",
       "      <td>0</td>\n",
       "      <td>0</td>\n",
       "      <td>0</td>\n",
       "      <td>1</td>\n",
       "      <td>Maharashtra</td>\n",
       "      <td>0</td>\n",
       "      <td>1</td>\n",
       "      <td>0</td>\n",
       "    </tr>\n",
       "    <tr>\n",
       "      <th>1</th>\n",
       "      <td>0</td>\n",
       "      <td>0</td>\n",
       "      <td>0</td>\n",
       "      <td>0</td>\n",
       "      <td>0</td>\n",
       "      <td>1</td>\n",
       "      <td>0</td>\n",
       "      <td>0</td>\n",
       "      <td>0</td>\n",
       "      <td>0</td>\n",
       "      <td>0</td>\n",
       "      <td>1</td>\n",
       "      <td>April</td>\n",
       "      <td>106</td>\n",
       "      <td>1788</td>\n",
       "      <td>1925</td>\n",
       "      <td>1875</td>\n",
       "      <td>2016-04</td>\n",
       "      <td>0</td>\n",
       "      <td>0</td>\n",
       "      <td>0</td>\n",
       "      <td>1</td>\n",
       "      <td>Maharashtra</td>\n",
       "      <td>0</td>\n",
       "      <td>0</td>\n",
       "      <td>1</td>\n",
       "    </tr>\n",
       "    <tr>\n",
       "      <th>2</th>\n",
       "      <td>0</td>\n",
       "      <td>0</td>\n",
       "      <td>0</td>\n",
       "      <td>0</td>\n",
       "      <td>0</td>\n",
       "      <td>1</td>\n",
       "      <td>0</td>\n",
       "      <td>0</td>\n",
       "      <td>0</td>\n",
       "      <td>0</td>\n",
       "      <td>0</td>\n",
       "      <td>2</td>\n",
       "      <td>April</td>\n",
       "      <td>1253</td>\n",
       "      <td>1572</td>\n",
       "      <td>1890</td>\n",
       "      <td>1731</td>\n",
       "      <td>2015-04</td>\n",
       "      <td>0</td>\n",
       "      <td>0</td>\n",
       "      <td>0</td>\n",
       "      <td>1</td>\n",
       "      <td>Maharashtra</td>\n",
       "      <td>0</td>\n",
       "      <td>1</td>\n",
       "      <td>0</td>\n",
       "    </tr>\n",
       "    <tr>\n",
       "      <th>3</th>\n",
       "      <td>0</td>\n",
       "      <td>0</td>\n",
       "      <td>0</td>\n",
       "      <td>0</td>\n",
       "      <td>0</td>\n",
       "      <td>1</td>\n",
       "      <td>0</td>\n",
       "      <td>0</td>\n",
       "      <td>0</td>\n",
       "      <td>0</td>\n",
       "      <td>0</td>\n",
       "      <td>2</td>\n",
       "      <td>April</td>\n",
       "      <td>387</td>\n",
       "      <td>1750</td>\n",
       "      <td>2220</td>\n",
       "      <td>1999</td>\n",
       "      <td>2016-04</td>\n",
       "      <td>0</td>\n",
       "      <td>0</td>\n",
       "      <td>0</td>\n",
       "      <td>1</td>\n",
       "      <td>Maharashtra</td>\n",
       "      <td>0</td>\n",
       "      <td>0</td>\n",
       "      <td>1</td>\n",
       "    </tr>\n",
       "    <tr>\n",
       "      <th>5</th>\n",
       "      <td>0</td>\n",
       "      <td>0</td>\n",
       "      <td>0</td>\n",
       "      <td>0</td>\n",
       "      <td>0</td>\n",
       "      <td>1</td>\n",
       "      <td>0</td>\n",
       "      <td>0</td>\n",
       "      <td>0</td>\n",
       "      <td>0</td>\n",
       "      <td>1</td>\n",
       "      <td>0</td>\n",
       "      <td>April</td>\n",
       "      <td>2093</td>\n",
       "      <td>1695</td>\n",
       "      <td>2454</td>\n",
       "      <td>2119</td>\n",
       "      <td>2016-04</td>\n",
       "      <td>0</td>\n",
       "      <td>0</td>\n",
       "      <td>0</td>\n",
       "      <td>1</td>\n",
       "      <td>Maharashtra</td>\n",
       "      <td>0</td>\n",
       "      <td>0</td>\n",
       "      <td>1</td>\n",
       "    </tr>\n",
       "  </tbody>\n",
       "</table>\n",
       "</div>"
      ],
      "text/plain": [
       "   APMC_0  APMC_1  APMC_2  APMC_3  APMC_4  APMC_5  Commodity_0  Commodity_1  \\\n",
       "0       0       0       0       0       0       1            0            0   \n",
       "1       0       0       0       0       0       1            0            0   \n",
       "2       0       0       0       0       0       1            0            0   \n",
       "3       0       0       0       0       0       1            0            0   \n",
       "5       0       0       0       0       0       1            0            0   \n",
       "\n",
       "   Commodity_2  Commodity_3  Commodity_4  Commodity_5  Month  arrivals_in_qtl  \\\n",
       "0            0            0            0            1  April               79   \n",
       "1            0            0            0            1  April              106   \n",
       "2            0            0            0            2  April             1253   \n",
       "3            0            0            0            2  April              387   \n",
       "5            0            0            1            0  April             2093   \n",
       "\n",
       "   min_price  max_price  modal_price     date  district_name_0  \\\n",
       "0       1406       1538         1463  2015-04                0   \n",
       "1       1788       1925         1875  2016-04                0   \n",
       "2       1572       1890         1731  2015-04                0   \n",
       "3       1750       2220         1999  2016-04                0   \n",
       "5       1695       2454         2119  2016-04                0   \n",
       "\n",
       "   district_name_1  district_name_2  district_name_3   state_name  Year_2014  \\\n",
       "0                0                0                1  Maharashtra          0   \n",
       "1                0                0                1  Maharashtra          0   \n",
       "2                0                0                1  Maharashtra          0   \n",
       "3                0                0                1  Maharashtra          0   \n",
       "5                0                0                1  Maharashtra          0   \n",
       "\n",
       "   Year_2015  Year_2016  \n",
       "0          1          0  \n",
       "1          0          1  \n",
       "2          1          0  \n",
       "3          0          1  \n",
       "5          0          1  "
      ]
     },
     "execution_count": 123,
     "metadata": {},
     "output_type": "execute_result"
    }
   ],
   "source": [
    "## to fit and transform the data\n",
    "\n",
    "data1_encoded=encoder.fit_transform(data1)\n",
    "data1_encoded.head()"
   ]
  },
  {
   "cell_type": "code",
   "execution_count": 124,
   "id": "71e1d9ab",
   "metadata": {},
   "outputs": [],
   "source": [
    "##dropping unwanted columns\n",
    "\n",
    "data1_encoded=data1_encoded.drop(['Month','state_name'],axis=1)"
   ]
  },
  {
   "cell_type": "code",
   "execution_count": 125,
   "id": "44e39715",
   "metadata": {},
   "outputs": [
    {
     "data": {
      "text/plain": [
       "APMC_0              int64\n",
       "APMC_1              int64\n",
       "APMC_2              int64\n",
       "APMC_3              int64\n",
       "APMC_4              int64\n",
       "APMC_5              int64\n",
       "Commodity_0         int64\n",
       "Commodity_1         int64\n",
       "Commodity_2         int64\n",
       "Commodity_3         int64\n",
       "Commodity_4         int64\n",
       "Commodity_5         int64\n",
       "arrivals_in_qtl     int64\n",
       "min_price           int64\n",
       "max_price           int64\n",
       "modal_price         int64\n",
       "date               object\n",
       "district_name_0     int64\n",
       "district_name_1     int64\n",
       "district_name_2     int64\n",
       "district_name_3     int64\n",
       "Year_2014           uint8\n",
       "Year_2015           uint8\n",
       "Year_2016           uint8\n",
       "dtype: object"
      ]
     },
     "execution_count": 125,
     "metadata": {},
     "output_type": "execute_result"
    }
   ],
   "source": [
    "data1_encoded.dtypes"
   ]
  },
  {
   "cell_type": "code",
   "execution_count": 126,
   "id": "a42f7c3a",
   "metadata": {},
   "outputs": [],
   "source": [
    "data1_encoded['date']=pd.to_datetime(data1_encoded['date'])"
   ]
  },
  {
   "cell_type": "code",
   "execution_count": 127,
   "id": "5ba3648d",
   "metadata": {},
   "outputs": [
    {
     "data": {
      "text/html": [
       "<div>\n",
       "<style scoped>\n",
       "    .dataframe tbody tr th:only-of-type {\n",
       "        vertical-align: middle;\n",
       "    }\n",
       "\n",
       "    .dataframe tbody tr th {\n",
       "        vertical-align: top;\n",
       "    }\n",
       "\n",
       "    .dataframe thead th {\n",
       "        text-align: right;\n",
       "    }\n",
       "</style>\n",
       "<table border=\"1\" class=\"dataframe\">\n",
       "  <thead>\n",
       "    <tr style=\"text-align: right;\">\n",
       "      <th></th>\n",
       "      <th>APMC_0</th>\n",
       "      <th>APMC_1</th>\n",
       "      <th>APMC_2</th>\n",
       "      <th>APMC_3</th>\n",
       "      <th>APMC_4</th>\n",
       "      <th>APMC_5</th>\n",
       "      <th>Commodity_0</th>\n",
       "      <th>Commodity_1</th>\n",
       "      <th>Commodity_2</th>\n",
       "      <th>Commodity_3</th>\n",
       "      <th>Commodity_4</th>\n",
       "      <th>Commodity_5</th>\n",
       "      <th>arrivals_in_qtl</th>\n",
       "      <th>min_price</th>\n",
       "      <th>max_price</th>\n",
       "      <th>modal_price</th>\n",
       "      <th>date</th>\n",
       "      <th>district_name_0</th>\n",
       "      <th>district_name_1</th>\n",
       "      <th>district_name_2</th>\n",
       "      <th>district_name_3</th>\n",
       "      <th>Year_2014</th>\n",
       "      <th>Year_2015</th>\n",
       "      <th>Year_2016</th>\n",
       "    </tr>\n",
       "  </thead>\n",
       "  <tbody>\n",
       "    <tr>\n",
       "      <th>0</th>\n",
       "      <td>0</td>\n",
       "      <td>0</td>\n",
       "      <td>0</td>\n",
       "      <td>0</td>\n",
       "      <td>0</td>\n",
       "      <td>1</td>\n",
       "      <td>0</td>\n",
       "      <td>0</td>\n",
       "      <td>0</td>\n",
       "      <td>0</td>\n",
       "      <td>0</td>\n",
       "      <td>1</td>\n",
       "      <td>79</td>\n",
       "      <td>1406</td>\n",
       "      <td>1538</td>\n",
       "      <td>1463</td>\n",
       "      <td>2015-04-01</td>\n",
       "      <td>0</td>\n",
       "      <td>0</td>\n",
       "      <td>0</td>\n",
       "      <td>1</td>\n",
       "      <td>0</td>\n",
       "      <td>1</td>\n",
       "      <td>0</td>\n",
       "    </tr>\n",
       "    <tr>\n",
       "      <th>1</th>\n",
       "      <td>0</td>\n",
       "      <td>0</td>\n",
       "      <td>0</td>\n",
       "      <td>0</td>\n",
       "      <td>0</td>\n",
       "      <td>1</td>\n",
       "      <td>0</td>\n",
       "      <td>0</td>\n",
       "      <td>0</td>\n",
       "      <td>0</td>\n",
       "      <td>0</td>\n",
       "      <td>1</td>\n",
       "      <td>106</td>\n",
       "      <td>1788</td>\n",
       "      <td>1925</td>\n",
       "      <td>1875</td>\n",
       "      <td>2016-04-01</td>\n",
       "      <td>0</td>\n",
       "      <td>0</td>\n",
       "      <td>0</td>\n",
       "      <td>1</td>\n",
       "      <td>0</td>\n",
       "      <td>0</td>\n",
       "      <td>1</td>\n",
       "    </tr>\n",
       "    <tr>\n",
       "      <th>2</th>\n",
       "      <td>0</td>\n",
       "      <td>0</td>\n",
       "      <td>0</td>\n",
       "      <td>0</td>\n",
       "      <td>0</td>\n",
       "      <td>1</td>\n",
       "      <td>0</td>\n",
       "      <td>0</td>\n",
       "      <td>0</td>\n",
       "      <td>0</td>\n",
       "      <td>0</td>\n",
       "      <td>2</td>\n",
       "      <td>1253</td>\n",
       "      <td>1572</td>\n",
       "      <td>1890</td>\n",
       "      <td>1731</td>\n",
       "      <td>2015-04-01</td>\n",
       "      <td>0</td>\n",
       "      <td>0</td>\n",
       "      <td>0</td>\n",
       "      <td>1</td>\n",
       "      <td>0</td>\n",
       "      <td>1</td>\n",
       "      <td>0</td>\n",
       "    </tr>\n",
       "    <tr>\n",
       "      <th>3</th>\n",
       "      <td>0</td>\n",
       "      <td>0</td>\n",
       "      <td>0</td>\n",
       "      <td>0</td>\n",
       "      <td>0</td>\n",
       "      <td>1</td>\n",
       "      <td>0</td>\n",
       "      <td>0</td>\n",
       "      <td>0</td>\n",
       "      <td>0</td>\n",
       "      <td>0</td>\n",
       "      <td>2</td>\n",
       "      <td>387</td>\n",
       "      <td>1750</td>\n",
       "      <td>2220</td>\n",
       "      <td>1999</td>\n",
       "      <td>2016-04-01</td>\n",
       "      <td>0</td>\n",
       "      <td>0</td>\n",
       "      <td>0</td>\n",
       "      <td>1</td>\n",
       "      <td>0</td>\n",
       "      <td>0</td>\n",
       "      <td>1</td>\n",
       "    </tr>\n",
       "    <tr>\n",
       "      <th>5</th>\n",
       "      <td>0</td>\n",
       "      <td>0</td>\n",
       "      <td>0</td>\n",
       "      <td>0</td>\n",
       "      <td>0</td>\n",
       "      <td>1</td>\n",
       "      <td>0</td>\n",
       "      <td>0</td>\n",
       "      <td>0</td>\n",
       "      <td>0</td>\n",
       "      <td>1</td>\n",
       "      <td>0</td>\n",
       "      <td>2093</td>\n",
       "      <td>1695</td>\n",
       "      <td>2454</td>\n",
       "      <td>2119</td>\n",
       "      <td>2016-04-01</td>\n",
       "      <td>0</td>\n",
       "      <td>0</td>\n",
       "      <td>0</td>\n",
       "      <td>1</td>\n",
       "      <td>0</td>\n",
       "      <td>0</td>\n",
       "      <td>1</td>\n",
       "    </tr>\n",
       "  </tbody>\n",
       "</table>\n",
       "</div>"
      ],
      "text/plain": [
       "   APMC_0  APMC_1  APMC_2  APMC_3  APMC_4  APMC_5  Commodity_0  Commodity_1  \\\n",
       "0       0       0       0       0       0       1            0            0   \n",
       "1       0       0       0       0       0       1            0            0   \n",
       "2       0       0       0       0       0       1            0            0   \n",
       "3       0       0       0       0       0       1            0            0   \n",
       "5       0       0       0       0       0       1            0            0   \n",
       "\n",
       "   Commodity_2  Commodity_3  Commodity_4  Commodity_5  arrivals_in_qtl  \\\n",
       "0            0            0            0            1               79   \n",
       "1            0            0            0            1              106   \n",
       "2            0            0            0            2             1253   \n",
       "3            0            0            0            2              387   \n",
       "5            0            0            1            0             2093   \n",
       "\n",
       "   min_price  max_price  modal_price       date  district_name_0  \\\n",
       "0       1406       1538         1463 2015-04-01                0   \n",
       "1       1788       1925         1875 2016-04-01                0   \n",
       "2       1572       1890         1731 2015-04-01                0   \n",
       "3       1750       2220         1999 2016-04-01                0   \n",
       "5       1695       2454         2119 2016-04-01                0   \n",
       "\n",
       "   district_name_1  district_name_2  district_name_3  Year_2014  Year_2015  \\\n",
       "0                0                0                1          0          1   \n",
       "1                0                0                1          0          0   \n",
       "2                0                0                1          0          1   \n",
       "3                0                0                1          0          0   \n",
       "5                0                0                1          0          0   \n",
       "\n",
       "   Year_2016  \n",
       "0          0  \n",
       "1          1  \n",
       "2          0  \n",
       "3          1  \n",
       "5          1  "
      ]
     },
     "execution_count": 127,
     "metadata": {},
     "output_type": "execute_result"
    }
   ],
   "source": [
    "data1_encoded.head()"
   ]
  },
  {
   "cell_type": "markdown",
   "id": "e993ca02",
   "metadata": {},
   "source": [
    "# scaling"
   ]
  },
  {
   "cell_type": "code",
   "execution_count": 128,
   "id": "c69030bb",
   "metadata": {},
   "outputs": [
    {
     "data": {
      "text/html": [
       "<div>\n",
       "<style scoped>\n",
       "    .dataframe tbody tr th:only-of-type {\n",
       "        vertical-align: middle;\n",
       "    }\n",
       "\n",
       "    .dataframe tbody tr th {\n",
       "        vertical-align: top;\n",
       "    }\n",
       "\n",
       "    .dataframe thead th {\n",
       "        text-align: right;\n",
       "    }\n",
       "</style>\n",
       "<table border=\"1\" class=\"dataframe\">\n",
       "  <thead>\n",
       "    <tr style=\"text-align: right;\">\n",
       "      <th></th>\n",
       "      <th>APMC_0</th>\n",
       "      <th>APMC_1</th>\n",
       "      <th>APMC_2</th>\n",
       "      <th>APMC_3</th>\n",
       "      <th>APMC_4</th>\n",
       "      <th>APMC_5</th>\n",
       "      <th>Commodity_0</th>\n",
       "      <th>Commodity_1</th>\n",
       "      <th>Commodity_2</th>\n",
       "      <th>Commodity_3</th>\n",
       "      <th>Commodity_4</th>\n",
       "      <th>Commodity_5</th>\n",
       "      <th>arrivals_in_qtl</th>\n",
       "      <th>min_price</th>\n",
       "      <th>max_price</th>\n",
       "      <th>modal_price</th>\n",
       "      <th>district_name_0</th>\n",
       "      <th>district_name_1</th>\n",
       "      <th>district_name_2</th>\n",
       "      <th>district_name_3</th>\n",
       "      <th>Year_2014</th>\n",
       "      <th>Year_2015</th>\n",
       "      <th>Year_2016</th>\n",
       "    </tr>\n",
       "  </thead>\n",
       "  <tbody>\n",
       "    <tr>\n",
       "      <th>count</th>\n",
       "      <td>48822.000000</td>\n",
       "      <td>48822.000000</td>\n",
       "      <td>48822.000000</td>\n",
       "      <td>48822.000000</td>\n",
       "      <td>48822.000000</td>\n",
       "      <td>48822.000000</td>\n",
       "      <td>48822.000000</td>\n",
       "      <td>48822.000000</td>\n",
       "      <td>48822.000000</td>\n",
       "      <td>48822.000000</td>\n",
       "      <td>48822.000000</td>\n",
       "      <td>48822.000000</td>\n",
       "      <td>48822.000000</td>\n",
       "      <td>48822.000000</td>\n",
       "      <td>48822.000000</td>\n",
       "      <td>48822.000000</td>\n",
       "      <td>48822.000000</td>\n",
       "      <td>48822.000000</td>\n",
       "      <td>48822.000000</td>\n",
       "      <td>48822.000000</td>\n",
       "      <td>48822.000000</td>\n",
       "      <td>48822.000000</td>\n",
       "      <td>48822.000000</td>\n",
       "    </tr>\n",
       "    <tr>\n",
       "      <th>mean</th>\n",
       "      <td>0.323584</td>\n",
       "      <td>0.661382</td>\n",
       "      <td>0.964811</td>\n",
       "      <td>0.809000</td>\n",
       "      <td>0.912724</td>\n",
       "      <td>0.957232</td>\n",
       "      <td>0.010385</td>\n",
       "      <td>0.169288</td>\n",
       "      <td>0.521179</td>\n",
       "      <td>0.616239</td>\n",
       "      <td>0.837778</td>\n",
       "      <td>1.127832</td>\n",
       "      <td>434.456925</td>\n",
       "      <td>2518.195916</td>\n",
       "      <td>3091.000922</td>\n",
       "      <td>2820.794969</td>\n",
       "      <td>0.219082</td>\n",
       "      <td>0.835771</td>\n",
       "      <td>0.897034</td>\n",
       "      <td>0.827926</td>\n",
       "      <td>0.130474</td>\n",
       "      <td>0.410614</td>\n",
       "      <td>0.458912</td>\n",
       "    </tr>\n",
       "    <tr>\n",
       "      <th>std</th>\n",
       "      <td>0.467848</td>\n",
       "      <td>0.826404</td>\n",
       "      <td>0.802609</td>\n",
       "      <td>0.789335</td>\n",
       "      <td>0.806117</td>\n",
       "      <td>0.779264</td>\n",
       "      <td>0.101376</td>\n",
       "      <td>0.471898</td>\n",
       "      <td>0.738271</td>\n",
       "      <td>0.762540</td>\n",
       "      <td>0.769271</td>\n",
       "      <td>0.834411</td>\n",
       "      <td>679.713121</td>\n",
       "      <td>1781.338440</td>\n",
       "      <td>1926.575827</td>\n",
       "      <td>1845.320987</td>\n",
       "      <td>0.413628</td>\n",
       "      <td>0.900435</td>\n",
       "      <td>0.795764</td>\n",
       "      <td>0.782291</td>\n",
       "      <td>0.336828</td>\n",
       "      <td>0.491950</td>\n",
       "      <td>0.498314</td>\n",
       "    </tr>\n",
       "    <tr>\n",
       "      <th>min</th>\n",
       "      <td>0.000000</td>\n",
       "      <td>0.000000</td>\n",
       "      <td>0.000000</td>\n",
       "      <td>0.000000</td>\n",
       "      <td>0.000000</td>\n",
       "      <td>0.000000</td>\n",
       "      <td>0.000000</td>\n",
       "      <td>0.000000</td>\n",
       "      <td>0.000000</td>\n",
       "      <td>0.000000</td>\n",
       "      <td>0.000000</td>\n",
       "      <td>0.000000</td>\n",
       "      <td>1.000000</td>\n",
       "      <td>0.000000</td>\n",
       "      <td>0.000000</td>\n",
       "      <td>0.000000</td>\n",
       "      <td>0.000000</td>\n",
       "      <td>0.000000</td>\n",
       "      <td>0.000000</td>\n",
       "      <td>0.000000</td>\n",
       "      <td>0.000000</td>\n",
       "      <td>0.000000</td>\n",
       "      <td>0.000000</td>\n",
       "    </tr>\n",
       "    <tr>\n",
       "      <th>25%</th>\n",
       "      <td>0.000000</td>\n",
       "      <td>0.000000</td>\n",
       "      <td>0.000000</td>\n",
       "      <td>0.000000</td>\n",
       "      <td>0.000000</td>\n",
       "      <td>0.000000</td>\n",
       "      <td>0.000000</td>\n",
       "      <td>0.000000</td>\n",
       "      <td>0.000000</td>\n",
       "      <td>0.000000</td>\n",
       "      <td>0.000000</td>\n",
       "      <td>0.000000</td>\n",
       "      <td>27.000000</td>\n",
       "      <td>1265.000000</td>\n",
       "      <td>1574.000000</td>\n",
       "      <td>1446.000000</td>\n",
       "      <td>0.000000</td>\n",
       "      <td>0.000000</td>\n",
       "      <td>0.000000</td>\n",
       "      <td>0.000000</td>\n",
       "      <td>0.000000</td>\n",
       "      <td>0.000000</td>\n",
       "      <td>0.000000</td>\n",
       "    </tr>\n",
       "    <tr>\n",
       "      <th>50%</th>\n",
       "      <td>0.000000</td>\n",
       "      <td>0.000000</td>\n",
       "      <td>1.000000</td>\n",
       "      <td>1.000000</td>\n",
       "      <td>1.000000</td>\n",
       "      <td>1.000000</td>\n",
       "      <td>0.000000</td>\n",
       "      <td>0.000000</td>\n",
       "      <td>0.000000</td>\n",
       "      <td>0.000000</td>\n",
       "      <td>1.000000</td>\n",
       "      <td>1.000000</td>\n",
       "      <td>126.000000</td>\n",
       "      <td>1820.000000</td>\n",
       "      <td>2571.000000</td>\n",
       "      <td>2223.000000</td>\n",
       "      <td>0.000000</td>\n",
       "      <td>0.000000</td>\n",
       "      <td>1.000000</td>\n",
       "      <td>1.000000</td>\n",
       "      <td>0.000000</td>\n",
       "      <td>0.000000</td>\n",
       "      <td>0.000000</td>\n",
       "    </tr>\n",
       "    <tr>\n",
       "      <th>75%</th>\n",
       "      <td>1.000000</td>\n",
       "      <td>1.000000</td>\n",
       "      <td>2.000000</td>\n",
       "      <td>1.000000</td>\n",
       "      <td>2.000000</td>\n",
       "      <td>2.000000</td>\n",
       "      <td>0.000000</td>\n",
       "      <td>0.000000</td>\n",
       "      <td>1.000000</td>\n",
       "      <td>1.000000</td>\n",
       "      <td>1.000000</td>\n",
       "      <td>2.000000</td>\n",
       "      <td>510.000000</td>\n",
       "      <td>3508.000000</td>\n",
       "      <td>4225.000000</td>\n",
       "      <td>3901.000000</td>\n",
       "      <td>0.000000</td>\n",
       "      <td>2.000000</td>\n",
       "      <td>2.000000</td>\n",
       "      <td>1.000000</td>\n",
       "      <td>0.000000</td>\n",
       "      <td>1.000000</td>\n",
       "      <td>1.000000</td>\n",
       "    </tr>\n",
       "    <tr>\n",
       "      <th>max</th>\n",
       "      <td>1.000000</td>\n",
       "      <td>2.000000</td>\n",
       "      <td>2.000000</td>\n",
       "      <td>2.000000</td>\n",
       "      <td>2.000000</td>\n",
       "      <td>2.000000</td>\n",
       "      <td>1.000000</td>\n",
       "      <td>2.000000</td>\n",
       "      <td>2.000000</td>\n",
       "      <td>2.000000</td>\n",
       "      <td>2.000000</td>\n",
       "      <td>2.000000</td>\n",
       "      <td>3353.000000</td>\n",
       "      <td>7892.000000</td>\n",
       "      <td>8760.000000</td>\n",
       "      <td>7825.000000</td>\n",
       "      <td>1.000000</td>\n",
       "      <td>2.000000</td>\n",
       "      <td>2.000000</td>\n",
       "      <td>2.000000</td>\n",
       "      <td>1.000000</td>\n",
       "      <td>1.000000</td>\n",
       "      <td>1.000000</td>\n",
       "    </tr>\n",
       "  </tbody>\n",
       "</table>\n",
       "</div>"
      ],
      "text/plain": [
       "             APMC_0        APMC_1        APMC_2        APMC_3        APMC_4  \\\n",
       "count  48822.000000  48822.000000  48822.000000  48822.000000  48822.000000   \n",
       "mean       0.323584      0.661382      0.964811      0.809000      0.912724   \n",
       "std        0.467848      0.826404      0.802609      0.789335      0.806117   \n",
       "min        0.000000      0.000000      0.000000      0.000000      0.000000   \n",
       "25%        0.000000      0.000000      0.000000      0.000000      0.000000   \n",
       "50%        0.000000      0.000000      1.000000      1.000000      1.000000   \n",
       "75%        1.000000      1.000000      2.000000      1.000000      2.000000   \n",
       "max        1.000000      2.000000      2.000000      2.000000      2.000000   \n",
       "\n",
       "             APMC_5   Commodity_0   Commodity_1   Commodity_2   Commodity_3  \\\n",
       "count  48822.000000  48822.000000  48822.000000  48822.000000  48822.000000   \n",
       "mean       0.957232      0.010385      0.169288      0.521179      0.616239   \n",
       "std        0.779264      0.101376      0.471898      0.738271      0.762540   \n",
       "min        0.000000      0.000000      0.000000      0.000000      0.000000   \n",
       "25%        0.000000      0.000000      0.000000      0.000000      0.000000   \n",
       "50%        1.000000      0.000000      0.000000      0.000000      0.000000   \n",
       "75%        2.000000      0.000000      0.000000      1.000000      1.000000   \n",
       "max        2.000000      1.000000      2.000000      2.000000      2.000000   \n",
       "\n",
       "        Commodity_4   Commodity_5  arrivals_in_qtl     min_price  \\\n",
       "count  48822.000000  48822.000000     48822.000000  48822.000000   \n",
       "mean       0.837778      1.127832       434.456925   2518.195916   \n",
       "std        0.769271      0.834411       679.713121   1781.338440   \n",
       "min        0.000000      0.000000         1.000000      0.000000   \n",
       "25%        0.000000      0.000000        27.000000   1265.000000   \n",
       "50%        1.000000      1.000000       126.000000   1820.000000   \n",
       "75%        1.000000      2.000000       510.000000   3508.000000   \n",
       "max        2.000000      2.000000      3353.000000   7892.000000   \n",
       "\n",
       "          max_price   modal_price  district_name_0  district_name_1  \\\n",
       "count  48822.000000  48822.000000     48822.000000     48822.000000   \n",
       "mean    3091.000922   2820.794969         0.219082         0.835771   \n",
       "std     1926.575827   1845.320987         0.413628         0.900435   \n",
       "min        0.000000      0.000000         0.000000         0.000000   \n",
       "25%     1574.000000   1446.000000         0.000000         0.000000   \n",
       "50%     2571.000000   2223.000000         0.000000         0.000000   \n",
       "75%     4225.000000   3901.000000         0.000000         2.000000   \n",
       "max     8760.000000   7825.000000         1.000000         2.000000   \n",
       "\n",
       "       district_name_2  district_name_3     Year_2014     Year_2015  \\\n",
       "count     48822.000000     48822.000000  48822.000000  48822.000000   \n",
       "mean          0.897034         0.827926      0.130474      0.410614   \n",
       "std           0.795764         0.782291      0.336828      0.491950   \n",
       "min           0.000000         0.000000      0.000000      0.000000   \n",
       "25%           0.000000         0.000000      0.000000      0.000000   \n",
       "50%           1.000000         1.000000      0.000000      0.000000   \n",
       "75%           2.000000         1.000000      0.000000      1.000000   \n",
       "max           2.000000         2.000000      1.000000      1.000000   \n",
       "\n",
       "          Year_2016  \n",
       "count  48822.000000  \n",
       "mean       0.458912  \n",
       "std        0.498314  \n",
       "min        0.000000  \n",
       "25%        0.000000  \n",
       "50%        0.000000  \n",
       "75%        1.000000  \n",
       "max        1.000000  "
      ]
     },
     "execution_count": 128,
     "metadata": {},
     "output_type": "execute_result"
    }
   ],
   "source": [
    "data1_encoded.describe()"
   ]
  },
  {
   "cell_type": "code",
   "execution_count": 129,
   "id": "22a04c6f",
   "metadata": {},
   "outputs": [
    {
     "data": {
      "text/html": [
       "<div>\n",
       "<style scoped>\n",
       "    .dataframe tbody tr th:only-of-type {\n",
       "        vertical-align: middle;\n",
       "    }\n",
       "\n",
       "    .dataframe tbody tr th {\n",
       "        vertical-align: top;\n",
       "    }\n",
       "\n",
       "    .dataframe thead th {\n",
       "        text-align: right;\n",
       "    }\n",
       "</style>\n",
       "<table border=\"1\" class=\"dataframe\">\n",
       "  <thead>\n",
       "    <tr style=\"text-align: right;\">\n",
       "      <th></th>\n",
       "      <th>APMC_0</th>\n",
       "      <th>APMC_1</th>\n",
       "      <th>APMC_2</th>\n",
       "      <th>APMC_3</th>\n",
       "      <th>APMC_4</th>\n",
       "      <th>APMC_5</th>\n",
       "      <th>Commodity_0</th>\n",
       "      <th>Commodity_1</th>\n",
       "      <th>Commodity_2</th>\n",
       "      <th>Commodity_3</th>\n",
       "      <th>Commodity_4</th>\n",
       "      <th>Commodity_5</th>\n",
       "      <th>arrivals_in_qtl</th>\n",
       "      <th>min_price</th>\n",
       "      <th>max_price</th>\n",
       "      <th>modal_price</th>\n",
       "      <th>date</th>\n",
       "      <th>district_name_0</th>\n",
       "      <th>district_name_1</th>\n",
       "      <th>district_name_2</th>\n",
       "      <th>district_name_3</th>\n",
       "      <th>Year_2014</th>\n",
       "      <th>Year_2015</th>\n",
       "      <th>Year_2016</th>\n",
       "    </tr>\n",
       "  </thead>\n",
       "  <tbody>\n",
       "    <tr>\n",
       "      <th>0</th>\n",
       "      <td>0</td>\n",
       "      <td>0</td>\n",
       "      <td>0</td>\n",
       "      <td>0</td>\n",
       "      <td>0</td>\n",
       "      <td>1</td>\n",
       "      <td>0</td>\n",
       "      <td>0</td>\n",
       "      <td>0</td>\n",
       "      <td>0</td>\n",
       "      <td>0</td>\n",
       "      <td>1</td>\n",
       "      <td>0.023270</td>\n",
       "      <td>0.178155</td>\n",
       "      <td>0.175571</td>\n",
       "      <td>0.186965</td>\n",
       "      <td>2015-04-01</td>\n",
       "      <td>0</td>\n",
       "      <td>0</td>\n",
       "      <td>0</td>\n",
       "      <td>1</td>\n",
       "      <td>0</td>\n",
       "      <td>1</td>\n",
       "      <td>0</td>\n",
       "    </tr>\n",
       "    <tr>\n",
       "      <th>1</th>\n",
       "      <td>0</td>\n",
       "      <td>0</td>\n",
       "      <td>0</td>\n",
       "      <td>0</td>\n",
       "      <td>0</td>\n",
       "      <td>1</td>\n",
       "      <td>0</td>\n",
       "      <td>0</td>\n",
       "      <td>0</td>\n",
       "      <td>0</td>\n",
       "      <td>0</td>\n",
       "      <td>1</td>\n",
       "      <td>0.031325</td>\n",
       "      <td>0.226559</td>\n",
       "      <td>0.219749</td>\n",
       "      <td>0.239617</td>\n",
       "      <td>2016-04-01</td>\n",
       "      <td>0</td>\n",
       "      <td>0</td>\n",
       "      <td>0</td>\n",
       "      <td>1</td>\n",
       "      <td>0</td>\n",
       "      <td>0</td>\n",
       "      <td>1</td>\n",
       "    </tr>\n",
       "    <tr>\n",
       "      <th>2</th>\n",
       "      <td>0</td>\n",
       "      <td>0</td>\n",
       "      <td>0</td>\n",
       "      <td>0</td>\n",
       "      <td>0</td>\n",
       "      <td>1</td>\n",
       "      <td>0</td>\n",
       "      <td>0</td>\n",
       "      <td>0</td>\n",
       "      <td>0</td>\n",
       "      <td>0</td>\n",
       "      <td>2</td>\n",
       "      <td>0.373508</td>\n",
       "      <td>0.199189</td>\n",
       "      <td>0.215753</td>\n",
       "      <td>0.221214</td>\n",
       "      <td>2015-04-01</td>\n",
       "      <td>0</td>\n",
       "      <td>0</td>\n",
       "      <td>0</td>\n",
       "      <td>1</td>\n",
       "      <td>0</td>\n",
       "      <td>1</td>\n",
       "      <td>0</td>\n",
       "    </tr>\n",
       "    <tr>\n",
       "      <th>3</th>\n",
       "      <td>0</td>\n",
       "      <td>0</td>\n",
       "      <td>0</td>\n",
       "      <td>0</td>\n",
       "      <td>0</td>\n",
       "      <td>1</td>\n",
       "      <td>0</td>\n",
       "      <td>0</td>\n",
       "      <td>0</td>\n",
       "      <td>0</td>\n",
       "      <td>0</td>\n",
       "      <td>2</td>\n",
       "      <td>0.115155</td>\n",
       "      <td>0.221744</td>\n",
       "      <td>0.253425</td>\n",
       "      <td>0.255463</td>\n",
       "      <td>2016-04-01</td>\n",
       "      <td>0</td>\n",
       "      <td>0</td>\n",
       "      <td>0</td>\n",
       "      <td>1</td>\n",
       "      <td>0</td>\n",
       "      <td>0</td>\n",
       "      <td>1</td>\n",
       "    </tr>\n",
       "    <tr>\n",
       "      <th>5</th>\n",
       "      <td>0</td>\n",
       "      <td>0</td>\n",
       "      <td>0</td>\n",
       "      <td>0</td>\n",
       "      <td>0</td>\n",
       "      <td>1</td>\n",
       "      <td>0</td>\n",
       "      <td>0</td>\n",
       "      <td>0</td>\n",
       "      <td>0</td>\n",
       "      <td>1</td>\n",
       "      <td>0</td>\n",
       "      <td>0.624105</td>\n",
       "      <td>0.214774</td>\n",
       "      <td>0.280137</td>\n",
       "      <td>0.270799</td>\n",
       "      <td>2016-04-01</td>\n",
       "      <td>0</td>\n",
       "      <td>0</td>\n",
       "      <td>0</td>\n",
       "      <td>1</td>\n",
       "      <td>0</td>\n",
       "      <td>0</td>\n",
       "      <td>1</td>\n",
       "    </tr>\n",
       "  </tbody>\n",
       "</table>\n",
       "</div>"
      ],
      "text/plain": [
       "   APMC_0  APMC_1  APMC_2  APMC_3  APMC_4  APMC_5  Commodity_0  Commodity_1  \\\n",
       "0       0       0       0       0       0       1            0            0   \n",
       "1       0       0       0       0       0       1            0            0   \n",
       "2       0       0       0       0       0       1            0            0   \n",
       "3       0       0       0       0       0       1            0            0   \n",
       "5       0       0       0       0       0       1            0            0   \n",
       "\n",
       "   Commodity_2  Commodity_3  Commodity_4  Commodity_5  arrivals_in_qtl  \\\n",
       "0            0            0            0            1         0.023270   \n",
       "1            0            0            0            1         0.031325   \n",
       "2            0            0            0            2         0.373508   \n",
       "3            0            0            0            2         0.115155   \n",
       "5            0            0            1            0         0.624105   \n",
       "\n",
       "   min_price  max_price  modal_price       date  district_name_0  \\\n",
       "0   0.178155   0.175571     0.186965 2015-04-01                0   \n",
       "1   0.226559   0.219749     0.239617 2016-04-01                0   \n",
       "2   0.199189   0.215753     0.221214 2015-04-01                0   \n",
       "3   0.221744   0.253425     0.255463 2016-04-01                0   \n",
       "5   0.214774   0.280137     0.270799 2016-04-01                0   \n",
       "\n",
       "   district_name_1  district_name_2  district_name_3  Year_2014  Year_2015  \\\n",
       "0                0                0                1          0          1   \n",
       "1                0                0                1          0          0   \n",
       "2                0                0                1          0          1   \n",
       "3                0                0                1          0          0   \n",
       "5                0                0                1          0          0   \n",
       "\n",
       "   Year_2016  \n",
       "0          0  \n",
       "1          1  \n",
       "2          0  \n",
       "3          1  \n",
       "5          1  "
      ]
     },
     "execution_count": 129,
     "metadata": {},
     "output_type": "execute_result"
    }
   ],
   "source": [
    "## scalar\n",
    "data1_min_max_scaled=data1_encoded.copy()\n",
    "columns=['arrivals_in_qtl','min_price','max_price','modal_price']\n",
    "##\n",
    "for column in columns:\n",
    "    data1_min_max_scaled[column] = (data1_min_max_scaled[column] - data1_min_max_scaled[column].min()) / (data1_min_max_scaled[column].max() - data1_min_max_scaled[column].min()) \n",
    "    \n",
    "##\n",
    "                                                                                                      \n",
    "data1_min_max_scaled.head()"
   ]
  },
  {
   "cell_type": "markdown",
   "id": "8838403a",
   "metadata": {},
   "source": [
    "# 3. Exploratory Data Analysis"
   ]
  },
  {
   "cell_type": "markdown",
   "id": "8734d514",
   "metadata": {},
   "source": [
    "# Univariate Analysis\n"
   ]
  },
  {
   "cell_type": "code",
   "execution_count": 130,
   "id": "86439f30",
   "metadata": {},
   "outputs": [],
   "source": [
    "## histogram\n",
    "data2 = data1[['arrivals_in_qtl','min_price','max_price','modal_price']]"
   ]
  },
  {
   "cell_type": "code",
   "execution_count": 131,
   "id": "809b9fac",
   "metadata": {},
   "outputs": [
    {
     "data": {
      "image/png": "[encoded data removed]",
      "text/plain": [
       "<Figure size 1440x1080 with 4 Axes>"
      ]
     },
     "metadata": {
      "needs_background": "light"
     },
     "output_type": "display_data"
    }
   ],
   "source": [
    "import matplotlib.pyplot as plt\n",
    "import numpy as py\n",
    "plt.figure(figsize=(20,15))\n",
    "for i in range(4):\n",
    "    plt.subplot(2,3,i+1)\n",
    "    plt.hist(data1[data2.columns[i]])\n",
    "    plt.xlabel(data2.columns[i])\n",
    "    plt.ylabel('Frequency')"
   ]
  },
  {
   "cell_type": "code",
   "execution_count": 132,
   "id": "3a7afdc4",
   "metadata": {},
   "outputs": [
    {
     "data": {
      "text/plain": [
       "<AxesSubplot:>"
      ]
     },
     "execution_count": 132,
     "metadata": {},
     "output_type": "execute_result"
    },
    {
     "data": {
      "image/png": "[encoded data removed]",
      "text/plain": [
       "<Figure size 432x288 with 1 Axes>"
      ]
     },
     "metadata": {
      "needs_background": "light"
     },
     "output_type": "display_data"
    }
   ],
   "source": [
    "## box plot\n",
    "\n",
    "data2.plot(kind='box')"
   ]
  },
  {
   "cell_type": "code",
   "execution_count": null,
   "id": "26b36f86",
   "metadata": {},
   "outputs": [],
   "source": []
  },
  {
   "cell_type": "markdown",
   "id": "60e55ba2",
   "metadata": {},
   "source": [
    "# Bivariate Analysis"
   ]
  },
  {
   "cell_type": "code",
   "execution_count": 133,
   "id": "6d5766dd",
   "metadata": {},
   "outputs": [
    {
     "data": {
      "image/png": "[encoded data removed]",
      "text/plain": [
       "<Figure size 1080x720 with 2 Axes>"
      ]
     },
     "metadata": {
      "needs_background": "light"
     },
     "output_type": "display_data"
    }
   ],
   "source": [
    "# heatmap of the data for checking the correlation\n",
    "\n",
    "import seaborn as sns\n",
    "plt.figure(figsize=(15,10))\n",
    "sns.heatmap(data2.corr(),annot=True)\n",
    "plt.show()"
   ]
  },
  {
   "cell_type": "code",
   "execution_count": null,
   "id": "46527112",
   "metadata": {},
   "outputs": [],
   "source": []
  },
  {
   "cell_type": "markdown",
   "id": "04eb33a0",
   "metadata": {},
   "source": [
    "# 4.Modelling"
   ]
  },
  {
   "cell_type": "code",
   "execution_count": 134,
   "id": "4ea9a1f0",
   "metadata": {},
   "outputs": [],
   "source": [
    "##assign dependent and independent variable\n",
    "\n",
    "x=data1_min_max_scaled.drop(['modal_price','date'],axis=1)\n",
    "y=data1_min_max_scaled['modal_price']"
   ]
  },
  {
   "cell_type": "code",
   "execution_count": 135,
   "id": "b8353b49",
   "metadata": {},
   "outputs": [],
   "source": [
    "\n",
    "## Splilting the dataset\n",
    "\n",
    "from sklearn.model_selection import train_test_split\n",
    "x_train,x_test,y_train,y_test=train_test_split(x,y,random_state=42,test_size=0.25)\n"
   ]
  },
  {
   "cell_type": "markdown",
   "id": "e0331fbe",
   "metadata": {},
   "source": [
    "# linear regression"
   ]
  },
  {
   "cell_type": "code",
   "execution_count": 136,
   "id": "3589eef5",
   "metadata": {},
   "outputs": [],
   "source": [
    "## to fit the model\n",
    "\n",
    "from sklearn import linear_model\n",
    "lr=linear_model.LinearRegression()\n",
    "model=lr.fit(x_train,y_train)"
   ]
  },
  {
   "cell_type": "code",
   "execution_count": 137,
   "id": "075eb3b9",
   "metadata": {},
   "outputs": [],
   "source": [
    "## Predicting the values\n",
    "\n",
    "y_pred=lr.predict(x_test)"
   ]
  },
  {
   "cell_type": "code",
   "execution_count": 138,
   "id": "025246f3",
   "metadata": {},
   "outputs": [
    {
     "name": "stdout",
     "output_type": "stream",
     "text": [
      "MSE is:  0.0007190638690214207\n",
      "r squared: 0.9872817388926115\n"
     ]
    }
   ],
   "source": [
    "## Checking the MSE and r2_score\n",
    "\n",
    "\n",
    "from sklearn.metrics import mean_squared_error,r2_score\n",
    "print(\"MSE is: \",mean_squared_error(y_test,y_pred))\n",
    "print(\"r squared:\",r2_score(y_test,y_pred))"
   ]
  },
  {
   "cell_type": "code",
   "execution_count": 139,
   "id": "a71ae797",
   "metadata": {},
   "outputs": [],
   "source": [
    "temp=[]\n",
    "temp.append([\"Linear Regression\",round(mean_squared_error(y_test,y_pred),5),round(r2_score(y_test,y_pred),5)])\n"
   ]
  },
  {
   "cell_type": "code",
   "execution_count": 140,
   "id": "9c489f57",
   "metadata": {},
   "outputs": [
    {
     "data": {
      "text/plain": [
       "6775     0.178914\n",
       "10202    0.469521\n",
       "58181    0.570990\n",
       "8369     0.202939\n",
       "36694    0.203834\n",
       "Name: modal_price, dtype: float64"
      ]
     },
     "execution_count": 140,
     "metadata": {},
     "output_type": "execute_result"
    }
   ],
   "source": [
    "## Checking the y_test\n",
    "y_test[0:5]"
   ]
  },
  {
   "cell_type": "code",
   "execution_count": 141,
   "id": "89e8c7a2",
   "metadata": {},
   "outputs": [
    {
     "data": {
      "text/plain": [
       "array([0.17554806, 0.45950326, 0.56511326, 0.1997121 , 0.20814715])"
      ]
     },
     "execution_count": 141,
     "metadata": {},
     "output_type": "execute_result"
    }
   ],
   "source": [
    "## Checking the y_pred\n",
    "y_pred[0:5]"
   ]
  },
  {
   "cell_type": "markdown",
   "id": "022bed7b",
   "metadata": {},
   "source": [
    "# SVR"
   ]
  },
  {
   "cell_type": "code",
   "execution_count": 142,
   "id": "a525b457",
   "metadata": {},
   "outputs": [],
   "source": [
    "from sklearn.svm import SVR\n",
    "\n",
    "# Choose regression method and set hyperparameter\n",
    "svr_rbf=SVR(C=1.0, epsilon=0.2, kernel='rbf')\n",
    "\n",
    "# Training of the regression model\n",
    "svr_rbf.fit(x_train, y_train)\n",
    "y_pred = svr_rbf.predict(x_test)"
   ]
  },
  {
   "cell_type": "code",
   "execution_count": 143,
   "id": "ecb5c579",
   "metadata": {},
   "outputs": [
    {
     "name": "stdout",
     "output_type": "stream",
     "text": [
      "MSE is:  0.009361494479260685\n",
      "r squared: 0.8344209238260769\n"
     ]
    }
   ],
   "source": [
    "print(\"MSE is: \",mean_squared_error(y_test,y_pred))\n",
    "print(\"r squared:\",r2_score(y_test,y_pred))"
   ]
  },
  {
   "cell_type": "code",
   "execution_count": 144,
   "id": "7a78c213",
   "metadata": {},
   "outputs": [],
   "source": [
    "temp.append([\"SVR\",round(mean_squared_error(y_test,y_pred),5),round(r2_score(y_test,y_pred),5)])"
   ]
  },
  {
   "cell_type": "markdown",
   "id": "9e01af75",
   "metadata": {},
   "source": [
    "# RandomForestRegressor"
   ]
  },
  {
   "cell_type": "code",
   "execution_count": 145,
   "id": "a0820b86",
   "metadata": {},
   "outputs": [],
   "source": [
    "from sklearn.ensemble import RandomForestRegressor\n",
    "rm=RandomForestRegressor()\n",
    "rm.fit(x_train,y_train)\n",
    "\n",
    "y_pred=rm.predict(x_test)"
   ]
  },
  {
   "cell_type": "code",
   "execution_count": 146,
   "id": "e3c07fcc",
   "metadata": {},
   "outputs": [
    {
     "name": "stdout",
     "output_type": "stream",
     "text": [
      "MSE is:  0.0005106164799645569\n",
      "r squared: 0.9909685995949667\n"
     ]
    }
   ],
   "source": [
    "print(\"MSE is: \",mean_squared_error(y_test,y_pred))\n",
    "print(\"r squared:\",r2_score(y_test,y_pred))"
   ]
  },
  {
   "cell_type": "code",
   "execution_count": 147,
   "id": "55c2a87f",
   "metadata": {},
   "outputs": [],
   "source": [
    "temp.append([\"RandomForestRegressor\",round(mean_squared_error(y_test,y_pred),5),round(r2_score(y_test,y_pred),5)])"
   ]
  },
  {
   "cell_type": "markdown",
   "id": "7a170287",
   "metadata": {},
   "source": [
    "# DecisionTreeRegressor"
   ]
  },
  {
   "cell_type": "code",
   "execution_count": 148,
   "id": "ba9c9847",
   "metadata": {},
   "outputs": [],
   "source": [
    "from sklearn.tree import DecisionTreeRegressor\n",
    "\n",
    "# Build decision tree\n",
    "tree=DecisionTreeRegressor()\n",
    "tree.fit(x_train,y_train)\n",
    "y_pred=tree.predict(x_test)"
   ]
  },
  {
   "cell_type": "code",
   "execution_count": 149,
   "id": "418555c3",
   "metadata": {},
   "outputs": [
    {
     "name": "stdout",
     "output_type": "stream",
     "text": [
      "MSE is:  0.0009148059436826036\n",
      "r squared: 0.9838196002391552\n"
     ]
    }
   ],
   "source": [
    "print(\"MSE is: \",mean_squared_error(y_test,y_pred))\n",
    "print(\"r squared:\",r2_score(y_test,y_pred))"
   ]
  },
  {
   "cell_type": "code",
   "execution_count": 150,
   "id": "99f39587",
   "metadata": {},
   "outputs": [],
   "source": [
    "temp.append([\"DecisionTreeRegressor\",round(mean_squared_error(y_test,y_pred),5),round(r2_score(y_test,y_pred),5)])\n"
   ]
  },
  {
   "cell_type": "code",
   "execution_count": 151,
   "id": "0a06d194",
   "metadata": {},
   "outputs": [],
   "source": [
    "df8 = pd.DataFrame(temp, columns = ['Algorithms', 'MSE','r2_score'])"
   ]
  },
  {
   "cell_type": "code",
   "execution_count": 152,
   "id": "85f80db2",
   "metadata": {},
   "outputs": [
    {
     "data": {
      "text/html": [
       "<div>\n",
       "<style scoped>\n",
       "    .dataframe tbody tr th:only-of-type {\n",
       "        vertical-align: middle;\n",
       "    }\n",
       "\n",
       "    .dataframe tbody tr th {\n",
       "        vertical-align: top;\n",
       "    }\n",
       "\n",
       "    .dataframe thead th {\n",
       "        text-align: right;\n",
       "    }\n",
       "</style>\n",
       "<table border=\"1\" class=\"dataframe\">\n",
       "  <thead>\n",
       "    <tr style=\"text-align: right;\">\n",
       "      <th></th>\n",
       "      <th>Algorithms</th>\n",
       "      <th>MSE</th>\n",
       "      <th>r2_score</th>\n",
       "    </tr>\n",
       "  </thead>\n",
       "  <tbody>\n",
       "    <tr>\n",
       "      <th>2</th>\n",
       "      <td>RandomForestRegressor</td>\n",
       "      <td>0.00051</td>\n",
       "      <td>0.99097</td>\n",
       "    </tr>\n",
       "    <tr>\n",
       "      <th>0</th>\n",
       "      <td>Linear Regression</td>\n",
       "      <td>0.00072</td>\n",
       "      <td>0.98728</td>\n",
       "    </tr>\n",
       "    <tr>\n",
       "      <th>3</th>\n",
       "      <td>DecisionTreeRegressor</td>\n",
       "      <td>0.00091</td>\n",
       "      <td>0.98382</td>\n",
       "    </tr>\n",
       "    <tr>\n",
       "      <th>1</th>\n",
       "      <td>SVR</td>\n",
       "      <td>0.00936</td>\n",
       "      <td>0.83442</td>\n",
       "    </tr>\n",
       "  </tbody>\n",
       "</table>\n",
       "</div>"
      ],
      "text/plain": [
       "              Algorithms      MSE  r2_score\n",
       "2  RandomForestRegressor  0.00051   0.99097\n",
       "0      Linear Regression  0.00072   0.98728\n",
       "3  DecisionTreeRegressor  0.00091   0.98382\n",
       "1                    SVR  0.00936   0.83442"
      ]
     },
     "execution_count": 152,
     "metadata": {},
     "output_type": "execute_result"
    }
   ],
   "source": [
    "df8.sort_values(by=['MSE','r2_score'])"
   ]
  },
  {
   "cell_type": "markdown",
   "id": "d83c0b42",
   "metadata": {},
   "source": [
    "better algorithm for this problem is RandomForestRegressor\tsince it has lowest MSE and highest r2_score"
   ]
  },
  {
   "cell_type": "markdown",
   "id": "004c71f2",
   "metadata": {},
   "source": [
    "# Model Fine Tuning"
   ]
  },
  {
   "cell_type": "code",
   "execution_count": 153,
   "id": "e815f631",
   "metadata": {},
   "outputs": [],
   "source": [
    "## Using gridsearch to find the best parameters\n",
    "\n",
    "from sklearn.model_selection import GridSearchCV\n",
    "\n",
    "param_grid = {  'bootstrap': [True,False], 'max_features': ['auto', 'log2','sqrt'], 'n_estimators': [100,150]}\n"
   ]
  },
  {
   "cell_type": "code",
   "execution_count": 154,
   "id": "f4a396ea",
   "metadata": {},
   "outputs": [],
   "source": [
    "g_search = GridSearchCV(estimator = rm, param_grid = param_grid,cv = 3, n_jobs = 1, verbose = 0, return_train_score=True)"
   ]
  },
  {
   "cell_type": "code",
   "execution_count": 155,
   "id": "9194e6ae",
   "metadata": {},
   "outputs": [
    {
     "name": "stdout",
     "output_type": "stream",
     "text": [
      "{'bootstrap': True, 'max_features': 'auto', 'n_estimators': 100}\n"
     ]
    }
   ],
   "source": [
    "## Fitting and printing the best parameters\n",
    "\n",
    "g_search.fit(x_train, y_train);\n",
    "print(g_search.best_params_)"
   ]
  },
  {
   "cell_type": "code",
   "execution_count": 156,
   "id": "82628e63",
   "metadata": {},
   "outputs": [],
   "source": [
    "rm=RandomForestRegressor(bootstrap=True, max_features='auto',n_estimators=150)\n",
    "rm.fit(x_train,y_train)\n",
    "\n",
    "y_pred=rm.predict(x_test)\n"
   ]
  },
  {
   "cell_type": "code",
   "execution_count": 157,
   "id": "00790e53",
   "metadata": {},
   "outputs": [
    {
     "name": "stdout",
     "output_type": "stream",
     "text": [
      "MSE is:  0.000506335404681264\n",
      "r squared: 0.9910443200359721\n"
     ]
    }
   ],
   "source": [
    "## slight improvement\n",
    "print(\"MSE is: \",mean_squared_error(y_test,y_pred))\n",
    "print(\"r squared:\",r2_score(y_test,y_pred))"
   ]
  },
  {
   "cell_type": "markdown",
   "id": "532f574a",
   "metadata": {},
   "source": [
    "MSE value is decreased and r2_score value has increased."
   ]
  },
  {
   "cell_type": "code",
   "execution_count": null,
   "id": "a4cb0fc1",
   "metadata": {},
   "outputs": [],
   "source": []
  }
 ],
 "metadata": {
  "kernelspec": {
   "display_name": "Python 3 (ipykernel)",
   "language": "python",
   "name": "python3"
  },
  "language_info": {
   "codemirror_mode": {
    "name": "ipython",
    "version": 3
   },
   "file_extension": ".py",
   "mimetype": "text/x-python",
   "name": "python",
   "nbconvert_exporter": "python",
   "pygments_lexer": "ipython3",
   "version": "3.9.7"
  }
 },
 "nbformat": 4,
 "nbformat_minor": 5
}
